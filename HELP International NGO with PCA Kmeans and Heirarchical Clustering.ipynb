{
 "cells": [
  {
   "cell_type": "markdown",
   "metadata": {
    "collapsed": true
   },
   "source": [
    "## HELP International with PCA Kmeans and Heirarchical Clustering"
   ]
  },
  {
   "cell_type": "markdown",
   "metadata": {},
   "source": [
    "### Importing and Merging Data"
   ]
  },
  {
   "cell_type": "code",
   "execution_count": 244,
   "metadata": {},
   "outputs": [],
   "source": [
    "# Importing Pandas and NumPy\n",
    "import pandas as pd\n",
    "import numpy as np\n",
    "import matplotlib.pyplot as plt\n",
    "import seaborn as sns"
   ]
  },
  {
   "cell_type": "code",
   "execution_count": 245,
   "metadata": {},
   "outputs": [],
   "source": [
    "# Importing all datasets\n",
    "country = pd.read_csv(\"C:\\\\Users\\\\Tamilvanan\\\\Desktop\\\\Machine learning\\\\Country-data.csv\",  sep = ',',encoding = \"ISO-8859-1\")"
   ]
  },
  {
   "cell_type": "code",
   "execution_count": 246,
   "metadata": {},
   "outputs": [
    {
     "name": "stdout",
     "output_type": "stream",
     "text": [
      "167\n"
     ]
    }
   ],
   "source": [
    "print(len(country))"
   ]
  },
  {
   "cell_type": "markdown",
   "metadata": {},
   "source": [
    "### Let's understand the structure of our dataframe"
   ]
  },
  {
   "cell_type": "code",
   "execution_count": 247,
   "metadata": {},
   "outputs": [
    {
     "data": {
      "text/html": [
       "<div>\n",
       "<style scoped>\n",
       "    .dataframe tbody tr th:only-of-type {\n",
       "        vertical-align: middle;\n",
       "    }\n",
       "\n",
       "    .dataframe tbody tr th {\n",
       "        vertical-align: top;\n",
       "    }\n",
       "\n",
       "    .dataframe thead th {\n",
       "        text-align: right;\n",
       "    }\n",
       "</style>\n",
       "<table border=\"1\" class=\"dataframe\">\n",
       "  <thead>\n",
       "    <tr style=\"text-align: right;\">\n",
       "      <th></th>\n",
       "      <th>country</th>\n",
       "      <th>child_mort</th>\n",
       "      <th>exports</th>\n",
       "      <th>health</th>\n",
       "      <th>imports</th>\n",
       "      <th>income</th>\n",
       "      <th>inflation</th>\n",
       "      <th>life_expec</th>\n",
       "      <th>total_fer</th>\n",
       "      <th>gdpp</th>\n",
       "    </tr>\n",
       "  </thead>\n",
       "  <tbody>\n",
       "    <tr>\n",
       "      <th>0</th>\n",
       "      <td>Afghanistan</td>\n",
       "      <td>90.2</td>\n",
       "      <td>10.0</td>\n",
       "      <td>7.58</td>\n",
       "      <td>44.9</td>\n",
       "      <td>1610</td>\n",
       "      <td>9.44</td>\n",
       "      <td>56.2</td>\n",
       "      <td>5.82</td>\n",
       "      <td>553</td>\n",
       "    </tr>\n",
       "    <tr>\n",
       "      <th>1</th>\n",
       "      <td>Albania</td>\n",
       "      <td>16.6</td>\n",
       "      <td>28.0</td>\n",
       "      <td>6.55</td>\n",
       "      <td>48.6</td>\n",
       "      <td>9930</td>\n",
       "      <td>4.49</td>\n",
       "      <td>76.3</td>\n",
       "      <td>1.65</td>\n",
       "      <td>4090</td>\n",
       "    </tr>\n",
       "    <tr>\n",
       "      <th>2</th>\n",
       "      <td>Algeria</td>\n",
       "      <td>27.3</td>\n",
       "      <td>38.4</td>\n",
       "      <td>4.17</td>\n",
       "      <td>31.4</td>\n",
       "      <td>12900</td>\n",
       "      <td>16.10</td>\n",
       "      <td>76.5</td>\n",
       "      <td>2.89</td>\n",
       "      <td>4460</td>\n",
       "    </tr>\n",
       "    <tr>\n",
       "      <th>3</th>\n",
       "      <td>Angola</td>\n",
       "      <td>119.0</td>\n",
       "      <td>62.3</td>\n",
       "      <td>2.85</td>\n",
       "      <td>42.9</td>\n",
       "      <td>5900</td>\n",
       "      <td>22.40</td>\n",
       "      <td>60.1</td>\n",
       "      <td>6.16</td>\n",
       "      <td>3530</td>\n",
       "    </tr>\n",
       "    <tr>\n",
       "      <th>4</th>\n",
       "      <td>Antigua and Barbuda</td>\n",
       "      <td>10.3</td>\n",
       "      <td>45.5</td>\n",
       "      <td>6.03</td>\n",
       "      <td>58.9</td>\n",
       "      <td>19100</td>\n",
       "      <td>1.44</td>\n",
       "      <td>76.8</td>\n",
       "      <td>2.13</td>\n",
       "      <td>12200</td>\n",
       "    </tr>\n",
       "  </tbody>\n",
       "</table>\n",
       "</div>"
      ],
      "text/plain": [
       "               country  child_mort  exports  health  imports  income  \\\n",
       "0          Afghanistan        90.2     10.0    7.58     44.9    1610   \n",
       "1              Albania        16.6     28.0    6.55     48.6    9930   \n",
       "2              Algeria        27.3     38.4    4.17     31.4   12900   \n",
       "3               Angola       119.0     62.3    2.85     42.9    5900   \n",
       "4  Antigua and Barbuda        10.3     45.5    6.03     58.9   19100   \n",
       "\n",
       "   inflation  life_expec  total_fer   gdpp  \n",
       "0       9.44        56.2       5.82    553  \n",
       "1       4.49        76.3       1.65   4090  \n",
       "2      16.10        76.5       2.89   4460  \n",
       "3      22.40        60.1       6.16   3530  \n",
       "4       1.44        76.8       2.13  12200  "
      ]
     },
     "execution_count": 247,
     "metadata": {},
     "output_type": "execute_result"
    }
   ],
   "source": [
    "# Let's see the head of our master dataset\n",
    "country.head()"
   ]
  },
  {
   "cell_type": "code",
   "execution_count": 248,
   "metadata": {},
   "outputs": [
    {
     "data": {
      "text/html": [
       "<div>\n",
       "<style scoped>\n",
       "    .dataframe tbody tr th:only-of-type {\n",
       "        vertical-align: middle;\n",
       "    }\n",
       "\n",
       "    .dataframe tbody tr th {\n",
       "        vertical-align: top;\n",
       "    }\n",
       "\n",
       "    .dataframe thead th {\n",
       "        text-align: right;\n",
       "    }\n",
       "</style>\n",
       "<table border=\"1\" class=\"dataframe\">\n",
       "  <thead>\n",
       "    <tr style=\"text-align: right;\">\n",
       "      <th></th>\n",
       "      <th>child_mort</th>\n",
       "      <th>exports</th>\n",
       "      <th>health</th>\n",
       "      <th>imports</th>\n",
       "      <th>income</th>\n",
       "      <th>inflation</th>\n",
       "      <th>life_expec</th>\n",
       "      <th>total_fer</th>\n",
       "      <th>gdpp</th>\n",
       "    </tr>\n",
       "  </thead>\n",
       "  <tbody>\n",
       "    <tr>\n",
       "      <th>count</th>\n",
       "      <td>167.000000</td>\n",
       "      <td>167.000000</td>\n",
       "      <td>167.000000</td>\n",
       "      <td>167.000000</td>\n",
       "      <td>167.000000</td>\n",
       "      <td>167.000000</td>\n",
       "      <td>167.000000</td>\n",
       "      <td>167.000000</td>\n",
       "      <td>167.000000</td>\n",
       "    </tr>\n",
       "    <tr>\n",
       "      <th>mean</th>\n",
       "      <td>38.270060</td>\n",
       "      <td>41.108976</td>\n",
       "      <td>6.815689</td>\n",
       "      <td>46.890215</td>\n",
       "      <td>17144.688623</td>\n",
       "      <td>7.781832</td>\n",
       "      <td>70.555689</td>\n",
       "      <td>2.947964</td>\n",
       "      <td>12964.155689</td>\n",
       "    </tr>\n",
       "    <tr>\n",
       "      <th>std</th>\n",
       "      <td>40.328931</td>\n",
       "      <td>27.412010</td>\n",
       "      <td>2.746837</td>\n",
       "      <td>24.209589</td>\n",
       "      <td>19278.067698</td>\n",
       "      <td>10.570704</td>\n",
       "      <td>8.893172</td>\n",
       "      <td>1.513848</td>\n",
       "      <td>18328.704809</td>\n",
       "    </tr>\n",
       "    <tr>\n",
       "      <th>min</th>\n",
       "      <td>2.600000</td>\n",
       "      <td>0.109000</td>\n",
       "      <td>1.810000</td>\n",
       "      <td>0.065900</td>\n",
       "      <td>609.000000</td>\n",
       "      <td>-4.210000</td>\n",
       "      <td>32.100000</td>\n",
       "      <td>1.150000</td>\n",
       "      <td>231.000000</td>\n",
       "    </tr>\n",
       "    <tr>\n",
       "      <th>25%</th>\n",
       "      <td>8.250000</td>\n",
       "      <td>23.800000</td>\n",
       "      <td>4.920000</td>\n",
       "      <td>30.200000</td>\n",
       "      <td>3355.000000</td>\n",
       "      <td>1.810000</td>\n",
       "      <td>65.300000</td>\n",
       "      <td>1.795000</td>\n",
       "      <td>1330.000000</td>\n",
       "    </tr>\n",
       "    <tr>\n",
       "      <th>50%</th>\n",
       "      <td>19.300000</td>\n",
       "      <td>35.000000</td>\n",
       "      <td>6.320000</td>\n",
       "      <td>43.300000</td>\n",
       "      <td>9960.000000</td>\n",
       "      <td>5.390000</td>\n",
       "      <td>73.100000</td>\n",
       "      <td>2.410000</td>\n",
       "      <td>4660.000000</td>\n",
       "    </tr>\n",
       "    <tr>\n",
       "      <th>75%</th>\n",
       "      <td>62.100000</td>\n",
       "      <td>51.350000</td>\n",
       "      <td>8.600000</td>\n",
       "      <td>58.750000</td>\n",
       "      <td>22800.000000</td>\n",
       "      <td>10.750000</td>\n",
       "      <td>76.800000</td>\n",
       "      <td>3.880000</td>\n",
       "      <td>14050.000000</td>\n",
       "    </tr>\n",
       "    <tr>\n",
       "      <th>max</th>\n",
       "      <td>208.000000</td>\n",
       "      <td>200.000000</td>\n",
       "      <td>17.900000</td>\n",
       "      <td>174.000000</td>\n",
       "      <td>125000.000000</td>\n",
       "      <td>104.000000</td>\n",
       "      <td>82.800000</td>\n",
       "      <td>7.490000</td>\n",
       "      <td>105000.000000</td>\n",
       "    </tr>\n",
       "  </tbody>\n",
       "</table>\n",
       "</div>"
      ],
      "text/plain": [
       "       child_mort     exports      health     imports         income  \\\n",
       "count  167.000000  167.000000  167.000000  167.000000     167.000000   \n",
       "mean    38.270060   41.108976    6.815689   46.890215   17144.688623   \n",
       "std     40.328931   27.412010    2.746837   24.209589   19278.067698   \n",
       "min      2.600000    0.109000    1.810000    0.065900     609.000000   \n",
       "25%      8.250000   23.800000    4.920000   30.200000    3355.000000   \n",
       "50%     19.300000   35.000000    6.320000   43.300000    9960.000000   \n",
       "75%     62.100000   51.350000    8.600000   58.750000   22800.000000   \n",
       "max    208.000000  200.000000   17.900000  174.000000  125000.000000   \n",
       "\n",
       "        inflation  life_expec   total_fer           gdpp  \n",
       "count  167.000000  167.000000  167.000000     167.000000  \n",
       "mean     7.781832   70.555689    2.947964   12964.155689  \n",
       "std     10.570704    8.893172    1.513848   18328.704809  \n",
       "min     -4.210000   32.100000    1.150000     231.000000  \n",
       "25%      1.810000   65.300000    1.795000    1330.000000  \n",
       "50%      5.390000   73.100000    2.410000    4660.000000  \n",
       "75%     10.750000   76.800000    3.880000   14050.000000  \n",
       "max    104.000000   82.800000    7.490000  105000.000000  "
      ]
     },
     "execution_count": 248,
     "metadata": {},
     "output_type": "execute_result"
    }
   ],
   "source": [
    "country.describe()"
   ]
  },
  {
   "cell_type": "markdown",
   "metadata": {},
   "source": [
    "### Data Preparation"
   ]
  },
  {
   "cell_type": "code",
   "execution_count": 249,
   "metadata": {},
   "outputs": [
    {
     "name": "stdout",
     "output_type": "stream",
     "text": [
      "<class 'pandas.core.frame.DataFrame'>\n",
      "RangeIndex: 167 entries, 0 to 166\n",
      "Data columns (total 10 columns):\n",
      "country       167 non-null object\n",
      "child_mort    167 non-null float64\n",
      "exports       167 non-null float64\n",
      "health        167 non-null float64\n",
      "imports       167 non-null float64\n",
      "income        167 non-null int64\n",
      "inflation     167 non-null float64\n",
      "life_expec    167 non-null float64\n",
      "total_fer     167 non-null float64\n",
      "gdpp          167 non-null int64\n",
      "dtypes: float64(7), int64(2), object(1)\n",
      "memory usage: 13.1+ KB\n"
     ]
    }
   ],
   "source": [
    "country.info()"
   ]
  },
  {
   "cell_type": "markdown",
   "metadata": {},
   "source": [
    "Now we can see we have all variables as integer."
   ]
  },
  {
   "cell_type": "markdown",
   "metadata": {
    "collapsed": true
   },
   "source": [
    "### Checking for Outliers"
   ]
  },
  {
   "cell_type": "code",
   "execution_count": 250,
   "metadata": {},
   "outputs": [
    {
     "data": {
      "text/plain": [
       "Index(['country', 'child_mort', 'exports', 'health', 'imports', 'income',\n",
       "       'inflation', 'life_expec', 'total_fer', 'gdpp'],\n",
       "      dtype='object')"
      ]
     },
     "execution_count": 250,
     "metadata": {},
     "output_type": "execute_result"
    }
   ],
   "source": [
    "country.columns"
   ]
  },
  {
   "cell_type": "code",
   "execution_count": 251,
   "metadata": {},
   "outputs": [],
   "source": [
    "# Checking for outliers in the continuous variables\n",
    "country_con = country[[ 'child_mort', 'exports', 'health', 'imports', 'income',\n",
    "       'inflation', 'life_expec', 'total_fer', 'gdpp']]"
   ]
  },
  {
   "cell_type": "code",
   "execution_count": 252,
   "metadata": {
    "scrolled": false
   },
   "outputs": [
    {
     "data": {
      "text/html": [
       "<div>\n",
       "<style scoped>\n",
       "    .dataframe tbody tr th:only-of-type {\n",
       "        vertical-align: middle;\n",
       "    }\n",
       "\n",
       "    .dataframe tbody tr th {\n",
       "        vertical-align: top;\n",
       "    }\n",
       "\n",
       "    .dataframe thead th {\n",
       "        text-align: right;\n",
       "    }\n",
       "</style>\n",
       "<table border=\"1\" class=\"dataframe\">\n",
       "  <thead>\n",
       "    <tr style=\"text-align: right;\">\n",
       "      <th></th>\n",
       "      <th>child_mort</th>\n",
       "      <th>exports</th>\n",
       "      <th>health</th>\n",
       "      <th>imports</th>\n",
       "      <th>income</th>\n",
       "      <th>inflation</th>\n",
       "      <th>life_expec</th>\n",
       "      <th>total_fer</th>\n",
       "      <th>gdpp</th>\n",
       "    </tr>\n",
       "  </thead>\n",
       "  <tbody>\n",
       "    <tr>\n",
       "      <th>count</th>\n",
       "      <td>167.000000</td>\n",
       "      <td>167.000000</td>\n",
       "      <td>167.000000</td>\n",
       "      <td>167.000000</td>\n",
       "      <td>167.000000</td>\n",
       "      <td>167.000000</td>\n",
       "      <td>167.000000</td>\n",
       "      <td>167.000000</td>\n",
       "      <td>167.000000</td>\n",
       "    </tr>\n",
       "    <tr>\n",
       "      <th>mean</th>\n",
       "      <td>38.270060</td>\n",
       "      <td>41.108976</td>\n",
       "      <td>6.815689</td>\n",
       "      <td>46.890215</td>\n",
       "      <td>17144.688623</td>\n",
       "      <td>7.781832</td>\n",
       "      <td>70.555689</td>\n",
       "      <td>2.947964</td>\n",
       "      <td>12964.155689</td>\n",
       "    </tr>\n",
       "    <tr>\n",
       "      <th>std</th>\n",
       "      <td>40.328931</td>\n",
       "      <td>27.412010</td>\n",
       "      <td>2.746837</td>\n",
       "      <td>24.209589</td>\n",
       "      <td>19278.067698</td>\n",
       "      <td>10.570704</td>\n",
       "      <td>8.893172</td>\n",
       "      <td>1.513848</td>\n",
       "      <td>18328.704809</td>\n",
       "    </tr>\n",
       "    <tr>\n",
       "      <th>min</th>\n",
       "      <td>2.600000</td>\n",
       "      <td>0.109000</td>\n",
       "      <td>1.810000</td>\n",
       "      <td>0.065900</td>\n",
       "      <td>609.000000</td>\n",
       "      <td>-4.210000</td>\n",
       "      <td>32.100000</td>\n",
       "      <td>1.150000</td>\n",
       "      <td>231.000000</td>\n",
       "    </tr>\n",
       "    <tr>\n",
       "      <th>25%</th>\n",
       "      <td>8.250000</td>\n",
       "      <td>23.800000</td>\n",
       "      <td>4.920000</td>\n",
       "      <td>30.200000</td>\n",
       "      <td>3355.000000</td>\n",
       "      <td>1.810000</td>\n",
       "      <td>65.300000</td>\n",
       "      <td>1.795000</td>\n",
       "      <td>1330.000000</td>\n",
       "    </tr>\n",
       "    <tr>\n",
       "      <th>50%</th>\n",
       "      <td>19.300000</td>\n",
       "      <td>35.000000</td>\n",
       "      <td>6.320000</td>\n",
       "      <td>43.300000</td>\n",
       "      <td>9960.000000</td>\n",
       "      <td>5.390000</td>\n",
       "      <td>73.100000</td>\n",
       "      <td>2.410000</td>\n",
       "      <td>4660.000000</td>\n",
       "    </tr>\n",
       "    <tr>\n",
       "      <th>75%</th>\n",
       "      <td>62.100000</td>\n",
       "      <td>51.350000</td>\n",
       "      <td>8.600000</td>\n",
       "      <td>58.750000</td>\n",
       "      <td>22800.000000</td>\n",
       "      <td>10.750000</td>\n",
       "      <td>76.800000</td>\n",
       "      <td>3.880000</td>\n",
       "      <td>14050.000000</td>\n",
       "    </tr>\n",
       "    <tr>\n",
       "      <th>90%</th>\n",
       "      <td>100.220000</td>\n",
       "      <td>70.800000</td>\n",
       "      <td>10.940000</td>\n",
       "      <td>75.420000</td>\n",
       "      <td>41220.000000</td>\n",
       "      <td>16.640000</td>\n",
       "      <td>80.400000</td>\n",
       "      <td>5.322000</td>\n",
       "      <td>41840.000000</td>\n",
       "    </tr>\n",
       "    <tr>\n",
       "      <th>95%</th>\n",
       "      <td>116.000000</td>\n",
       "      <td>80.570000</td>\n",
       "      <td>11.570000</td>\n",
       "      <td>81.140000</td>\n",
       "      <td>48290.000000</td>\n",
       "      <td>20.870000</td>\n",
       "      <td>81.400000</td>\n",
       "      <td>5.861000</td>\n",
       "      <td>48610.000000</td>\n",
       "    </tr>\n",
       "    <tr>\n",
       "      <th>99%</th>\n",
       "      <td>153.400000</td>\n",
       "      <td>160.480000</td>\n",
       "      <td>13.474000</td>\n",
       "      <td>146.080000</td>\n",
       "      <td>84374.000000</td>\n",
       "      <td>41.478000</td>\n",
       "      <td>82.370000</td>\n",
       "      <td>6.563600</td>\n",
       "      <td>79088.000000</td>\n",
       "    </tr>\n",
       "    <tr>\n",
       "      <th>max</th>\n",
       "      <td>208.000000</td>\n",
       "      <td>200.000000</td>\n",
       "      <td>17.900000</td>\n",
       "      <td>174.000000</td>\n",
       "      <td>125000.000000</td>\n",
       "      <td>104.000000</td>\n",
       "      <td>82.800000</td>\n",
       "      <td>7.490000</td>\n",
       "      <td>105000.000000</td>\n",
       "    </tr>\n",
       "  </tbody>\n",
       "</table>\n",
       "</div>"
      ],
      "text/plain": [
       "       child_mort     exports      health     imports         income  \\\n",
       "count  167.000000  167.000000  167.000000  167.000000     167.000000   \n",
       "mean    38.270060   41.108976    6.815689   46.890215   17144.688623   \n",
       "std     40.328931   27.412010    2.746837   24.209589   19278.067698   \n",
       "min      2.600000    0.109000    1.810000    0.065900     609.000000   \n",
       "25%      8.250000   23.800000    4.920000   30.200000    3355.000000   \n",
       "50%     19.300000   35.000000    6.320000   43.300000    9960.000000   \n",
       "75%     62.100000   51.350000    8.600000   58.750000   22800.000000   \n",
       "90%    100.220000   70.800000   10.940000   75.420000   41220.000000   \n",
       "95%    116.000000   80.570000   11.570000   81.140000   48290.000000   \n",
       "99%    153.400000  160.480000   13.474000  146.080000   84374.000000   \n",
       "max    208.000000  200.000000   17.900000  174.000000  125000.000000   \n",
       "\n",
       "        inflation  life_expec   total_fer           gdpp  \n",
       "count  167.000000  167.000000  167.000000     167.000000  \n",
       "mean     7.781832   70.555689    2.947964   12964.155689  \n",
       "std     10.570704    8.893172    1.513848   18328.704809  \n",
       "min     -4.210000   32.100000    1.150000     231.000000  \n",
       "25%      1.810000   65.300000    1.795000    1330.000000  \n",
       "50%      5.390000   73.100000    2.410000    4660.000000  \n",
       "75%     10.750000   76.800000    3.880000   14050.000000  \n",
       "90%     16.640000   80.400000    5.322000   41840.000000  \n",
       "95%     20.870000   81.400000    5.861000   48610.000000  \n",
       "99%     41.478000   82.370000    6.563600   79088.000000  \n",
       "max    104.000000   82.800000    7.490000  105000.000000  "
      ]
     },
     "execution_count": 252,
     "metadata": {},
     "output_type": "execute_result"
    }
   ],
   "source": [
    "# Checking outliers at 25%,50%,75%,90%,95% and 99%\n",
    "country_con.describe(percentiles=[.25,.5,.75,.90,.95,.99])"
   ]
  },
  {
   "cell_type": "markdown",
   "metadata": {},
   "source": [
    "Outlier treatment isn't needed for this method as it might affect final outcome of the country list that needed help."
   ]
  },
  {
   "cell_type": "markdown",
   "metadata": {},
   "source": [
    "### Checking for Missing Values and Inputing Them"
   ]
  },
  {
   "cell_type": "code",
   "execution_count": 253,
   "metadata": {},
   "outputs": [
    {
     "data": {
      "text/plain": [
       "child_mort    0.0\n",
       "exports       0.0\n",
       "health        0.0\n",
       "imports       0.0\n",
       "income        0.0\n",
       "inflation     0.0\n",
       "life_expec    0.0\n",
       "total_fer     0.0\n",
       "gdpp          0.0\n",
       "dtype: float64"
      ]
     },
     "execution_count": 253,
     "metadata": {},
     "output_type": "execute_result"
    }
   ],
   "source": [
    "# Checking the percentage of missing values\n",
    "round(100*(country_con.isnull().sum()/len(country_con.index)), 2)"
   ]
  },
  {
   "cell_type": "markdown",
   "metadata": {},
   "source": [
    "Now we don't have any missing values"
   ]
  },
  {
   "cell_type": "markdown",
   "metadata": {},
   "source": [
    "### Feature Standardisation"
   ]
  },
  {
   "cell_type": "code",
   "execution_count": 254,
   "metadata": {
    "scrolled": true
   },
   "outputs": [
    {
     "data": {
      "text/html": [
       "<div>\n",
       "<style scoped>\n",
       "    .dataframe tbody tr th:only-of-type {\n",
       "        vertical-align: middle;\n",
       "    }\n",
       "\n",
       "    .dataframe tbody tr th {\n",
       "        vertical-align: top;\n",
       "    }\n",
       "\n",
       "    .dataframe thead th {\n",
       "        text-align: right;\n",
       "    }\n",
       "</style>\n",
       "<table border=\"1\" class=\"dataframe\">\n",
       "  <thead>\n",
       "    <tr style=\"text-align: right;\">\n",
       "      <th></th>\n",
       "      <th>child_mort</th>\n",
       "      <th>exports</th>\n",
       "      <th>health</th>\n",
       "      <th>imports</th>\n",
       "      <th>income</th>\n",
       "      <th>inflation</th>\n",
       "      <th>life_expec</th>\n",
       "      <th>total_fer</th>\n",
       "      <th>gdpp</th>\n",
       "    </tr>\n",
       "  </thead>\n",
       "  <tbody>\n",
       "    <tr>\n",
       "      <th>0</th>\n",
       "      <td>1.287660</td>\n",
       "      <td>-1.134867</td>\n",
       "      <td>0.278251</td>\n",
       "      <td>-0.082208</td>\n",
       "      <td>-0.805822</td>\n",
       "      <td>0.156864</td>\n",
       "      <td>-1.614237</td>\n",
       "      <td>1.897176</td>\n",
       "      <td>-0.677143</td>\n",
       "    </tr>\n",
       "    <tr>\n",
       "      <th>1</th>\n",
       "      <td>-0.537333</td>\n",
       "      <td>-0.478220</td>\n",
       "      <td>-0.096725</td>\n",
       "      <td>0.070624</td>\n",
       "      <td>-0.374243</td>\n",
       "      <td>-0.311411</td>\n",
       "      <td>0.645924</td>\n",
       "      <td>-0.857394</td>\n",
       "      <td>-0.484167</td>\n",
       "    </tr>\n",
       "    <tr>\n",
       "      <th>2</th>\n",
       "      <td>-0.272015</td>\n",
       "      <td>-0.098824</td>\n",
       "      <td>-0.963176</td>\n",
       "      <td>-0.639838</td>\n",
       "      <td>-0.220182</td>\n",
       "      <td>0.786908</td>\n",
       "      <td>0.668413</td>\n",
       "      <td>-0.038289</td>\n",
       "      <td>-0.463980</td>\n",
       "    </tr>\n",
       "    <tr>\n",
       "      <th>3</th>\n",
       "      <td>2.001787</td>\n",
       "      <td>0.773056</td>\n",
       "      <td>-1.443729</td>\n",
       "      <td>-0.164820</td>\n",
       "      <td>-0.583289</td>\n",
       "      <td>1.382894</td>\n",
       "      <td>-1.175698</td>\n",
       "      <td>2.121770</td>\n",
       "      <td>-0.514720</td>\n",
       "    </tr>\n",
       "    <tr>\n",
       "      <th>4</th>\n",
       "      <td>-0.693548</td>\n",
       "      <td>0.160186</td>\n",
       "      <td>-0.286034</td>\n",
       "      <td>0.496076</td>\n",
       "      <td>0.101427</td>\n",
       "      <td>-0.599944</td>\n",
       "      <td>0.702147</td>\n",
       "      <td>-0.540321</td>\n",
       "      <td>-0.041692</td>\n",
       "    </tr>\n",
       "  </tbody>\n",
       "</table>\n",
       "</div>"
      ],
      "text/plain": [
       "   child_mort   exports    health   imports    income  inflation  life_expec  \\\n",
       "0    1.287660 -1.134867  0.278251 -0.082208 -0.805822   0.156864   -1.614237   \n",
       "1   -0.537333 -0.478220 -0.096725  0.070624 -0.374243  -0.311411    0.645924   \n",
       "2   -0.272015 -0.098824 -0.963176 -0.639838 -0.220182   0.786908    0.668413   \n",
       "3    2.001787  0.773056 -1.443729 -0.164820 -0.583289   1.382894   -1.175698   \n",
       "4   -0.693548  0.160186 -0.286034  0.496076  0.101427  -0.599944    0.702147   \n",
       "\n",
       "   total_fer      gdpp  \n",
       "0   1.897176 -0.677143  \n",
       "1  -0.857394 -0.484167  \n",
       "2  -0.038289 -0.463980  \n",
       "3   2.121770 -0.514720  \n",
       "4  -0.540321 -0.041692  "
      ]
     },
     "execution_count": 254,
     "metadata": {},
     "output_type": "execute_result"
    }
   ],
   "source": [
    "normalized_df=(country_con-country_con.mean())/country_con.std()\n",
    "normalized_df.head()"
   ]
  },
  {
   "cell_type": "markdown",
   "metadata": {},
   "source": [
    "### PCA on the data"
   ]
  },
  {
   "cell_type": "markdown",
   "metadata": {},
   "source": [
    "#### Note - \n",
    "- While computng the principal components, we must not include the entire dataset. Model building is all about doing well on the data we haven't seen yet!"
   ]
  },
  {
   "cell_type": "code",
   "execution_count": 255,
   "metadata": {},
   "outputs": [],
   "source": [
    "#Improting the PCA module\n",
    "from sklearn.decomposition import PCA\n",
    "pca = PCA(svd_solver='randomized', random_state=42)"
   ]
  },
  {
   "cell_type": "code",
   "execution_count": 256,
   "metadata": {},
   "outputs": [
    {
     "data": {
      "text/plain": [
       "PCA(copy=True, iterated_power='auto', n_components=None, random_state=42,\n",
       "  svd_solver='randomized', tol=0.0, whiten=False)"
      ]
     },
     "execution_count": 256,
     "metadata": {},
     "output_type": "execute_result"
    }
   ],
   "source": [
    "pca.fit(normalized_df)"
   ]
  },
  {
   "cell_type": "markdown",
   "metadata": {},
   "source": [
    "#### Let's plot the principal components and try to make sense of them\n",
    "- We'll plot original features on the first 2 principal components as axes"
   ]
  },
  {
   "cell_type": "code",
   "execution_count": 257,
   "metadata": {},
   "outputs": [
    {
     "data": {
      "text/plain": [
       "array([[-0.41951945,  0.28389698,  0.15083782,  0.16148244,  0.39844111,\n",
       "        -0.19317293,  0.42583938, -0.40372896,  0.39264482],\n",
       "       [ 0.19288394,  0.61316349, -0.24308678,  0.67182064,  0.02253553,\n",
       "        -0.00840447, -0.22270674,  0.15523311, -0.0460224 ],\n",
       "       [-0.02954353,  0.14476069, -0.59663237, -0.29992674,  0.3015475 ,\n",
       "         0.64251951,  0.11391854,  0.01954925,  0.12297749],\n",
       "       [ 0.37065326,  0.00309102,  0.4618975 , -0.07190746,  0.39215904,\n",
       "         0.15044176, -0.20379723,  0.37830365,  0.53199457],\n",
       "       [-0.16896968,  0.05761584,  0.51800037,  0.25537642, -0.2471496 ,\n",
       "         0.7148691 ,  0.1082198 , -0.13526221, -0.18016662],\n",
       "       [ 0.20062815, -0.05933283,  0.00727646, -0.03003154,  0.16034699,\n",
       "         0.06628537, -0.60112652, -0.75068875,  0.01677876],\n",
       "       [-0.07948854, -0.70730269, -0.24983051,  0.59218953,  0.09556237,\n",
       "         0.10463252,  0.01848639,  0.02882643,  0.24299776],\n",
       "       [-0.68274306, -0.01419742,  0.07249683, -0.02894642,  0.35262369,\n",
       "        -0.01153775, -0.50466425,  0.29335267, -0.24969636],\n",
       "       [ 0.3275418 , -0.12308207,  0.11308797,  0.09903717,  0.61298247,\n",
       "        -0.02523614,  0.29403981, -0.02633585, -0.62564572]])"
      ]
     },
     "execution_count": 257,
     "metadata": {},
     "output_type": "execute_result"
    }
   ],
   "source": [
    "pca.components_"
   ]
  },
  {
   "cell_type": "code",
   "execution_count": 258,
   "metadata": {},
   "outputs": [
    {
     "data": {
      "text/html": [
       "<div>\n",
       "<style scoped>\n",
       "    .dataframe tbody tr th:only-of-type {\n",
       "        vertical-align: middle;\n",
       "    }\n",
       "\n",
       "    .dataframe tbody tr th {\n",
       "        vertical-align: top;\n",
       "    }\n",
       "\n",
       "    .dataframe thead th {\n",
       "        text-align: right;\n",
       "    }\n",
       "</style>\n",
       "<table border=\"1\" class=\"dataframe\">\n",
       "  <thead>\n",
       "    <tr style=\"text-align: right;\">\n",
       "      <th></th>\n",
       "      <th>PC1</th>\n",
       "      <th>PC2</th>\n",
       "      <th>Feature</th>\n",
       "    </tr>\n",
       "  </thead>\n",
       "  <tbody>\n",
       "    <tr>\n",
       "      <th>0</th>\n",
       "      <td>-0.419519</td>\n",
       "      <td>0.192884</td>\n",
       "      <td>child_mort</td>\n",
       "    </tr>\n",
       "    <tr>\n",
       "      <th>1</th>\n",
       "      <td>0.283897</td>\n",
       "      <td>0.613163</td>\n",
       "      <td>exports</td>\n",
       "    </tr>\n",
       "    <tr>\n",
       "      <th>2</th>\n",
       "      <td>0.150838</td>\n",
       "      <td>-0.243087</td>\n",
       "      <td>health</td>\n",
       "    </tr>\n",
       "    <tr>\n",
       "      <th>3</th>\n",
       "      <td>0.161482</td>\n",
       "      <td>0.671821</td>\n",
       "      <td>imports</td>\n",
       "    </tr>\n",
       "    <tr>\n",
       "      <th>4</th>\n",
       "      <td>0.398441</td>\n",
       "      <td>0.022536</td>\n",
       "      <td>income</td>\n",
       "    </tr>\n",
       "  </tbody>\n",
       "</table>\n",
       "</div>"
      ],
      "text/plain": [
       "        PC1       PC2     Feature\n",
       "0 -0.419519  0.192884  child_mort\n",
       "1  0.283897  0.613163     exports\n",
       "2  0.150838 -0.243087      health\n",
       "3  0.161482  0.671821     imports\n",
       "4  0.398441  0.022536      income"
      ]
     },
     "execution_count": 258,
     "metadata": {},
     "output_type": "execute_result"
    }
   ],
   "source": [
    "colnames = list(normalized_df.columns)\n",
    "pcs_df = pd.DataFrame({'PC1':pca.components_[0],'PC2':pca.components_[1], 'Feature':colnames})\n",
    "pcs_df.head()"
   ]
  },
  {
   "cell_type": "markdown",
   "metadata": {},
   "source": [
    "##### Plotting for visulization of components"
   ]
  },
  {
   "cell_type": "code",
   "execution_count": 259,
   "metadata": {},
   "outputs": [
    {
     "data": {
      "image/png": "[encoded data removed]",
      "text/plain": [
       "<Figure size 576x576 with 1 Axes>"
      ]
     },
     "metadata": {},
     "output_type": "display_data"
    }
   ],
   "source": [
    "%matplotlib inline\n",
    "fig = plt.figure(figsize = (8,8))\n",
    "plt.scatter(pcs_df.PC1, pcs_df.PC2)\n",
    "plt.xlabel('Principal Component 1')\n",
    "plt.ylabel('Principal Component 2')\n",
    "for i, txt in enumerate(pcs_df.Feature):\n",
    "    plt.annotate(txt, (pcs_df.PC1[i],pcs_df.PC2[i]))\n",
    "plt.tight_layout()\n",
    "plt.show()"
   ]
  },
  {
   "cell_type": "markdown",
   "metadata": {},
   "source": [
    "#### Looking at the screeplot to assess the number of needed principal components"
   ]
  },
  {
   "cell_type": "code",
   "execution_count": 260,
   "metadata": {},
   "outputs": [
    {
     "data": {
      "text/plain": [
       "array([0.4595174 , 0.17181626, 0.13004259, 0.11053162, 0.07340211,\n",
       "       0.02484235, 0.0126043 , 0.00981282, 0.00743056])"
      ]
     },
     "execution_count": 260,
     "metadata": {},
     "output_type": "execute_result"
    }
   ],
   "source": [
    "pca.explained_variance_ratio_"
   ]
  },
  {
   "cell_type": "code",
   "execution_count": 261,
   "metadata": {},
   "outputs": [
    {
     "data": {
      "image/png": "[encoded data removed]",
      "text/plain": [
       "<Figure size 864x576 with 1 Axes>"
      ]
     },
     "metadata": {},
     "output_type": "display_data"
    }
   ],
   "source": [
    "#Making the screeplot - plotting the cumulative variance against the number of components\n",
    "%matplotlib inline\n",
    "fig = plt.figure(figsize = (12,8))\n",
    "plt.plot(np.cumsum(pca.explained_variance_ratio_))\n",
    "plt.xlabel('number of components')\n",
    "plt.ylabel('cumulative explained variance')\n",
    "plt.show()"
   ]
  },
  {
   "cell_type": "markdown",
   "metadata": {},
   "source": [
    "#### Looks like 5 components are enough to describe 95% of the variance in the dataset\n",
    "- We'll choose 5 components for our modeling"
   ]
  },
  {
   "cell_type": "code",
   "execution_count": 262,
   "metadata": {},
   "outputs": [],
   "source": [
    "#Using incremental PCA for efficiency - saves a lot of time on larger datasets\n",
    "from sklearn.decomposition import IncrementalPCA\n",
    "pca_final = IncrementalPCA(n_components=5)"
   ]
  },
  {
   "cell_type": "code",
   "execution_count": 263,
   "metadata": {},
   "outputs": [
    {
     "data": {
      "text/plain": [
       "(167, 5)"
      ]
     },
     "execution_count": 263,
     "metadata": {},
     "output_type": "execute_result"
    }
   ],
   "source": [
    "df_normalized_pca = pca_final.fit_transform(normalized_df)\n",
    "df_normalized_pca.shape"
   ]
  },
  {
   "cell_type": "markdown",
   "metadata": {},
   "source": [
    "#### Creating correlation matrix for the principal components - we expect little to no correlation"
   ]
  },
  {
   "cell_type": "code",
   "execution_count": 264,
   "metadata": {},
   "outputs": [],
   "source": [
    "#creating correlation matrix for the principal components\n",
    "corrmat = np.corrcoef(df_normalized_pca.transpose())"
   ]
  },
  {
   "cell_type": "code",
   "execution_count": 265,
   "metadata": {
    "scrolled": false
   },
   "outputs": [
    {
     "data": {
      "text/plain": [
       "<matplotlib.axes._subplots.AxesSubplot at 0xd299358>"
      ]
     },
     "execution_count": 265,
     "metadata": {},
     "output_type": "execute_result"
    },
    {
     "data": {
      "image/png": "[encoded data removed]",
      "text/plain": [
       "<Figure size 1440x720 with 2 Axes>"
      ]
     },
     "metadata": {},
     "output_type": "display_data"
    }
   ],
   "source": [
    "#plotting the correlation matrix\n",
    "%matplotlib inline\n",
    "plt.figure(figsize = (20,10))\n",
    "sns.heatmap(corrmat,annot = True)"
   ]
  },
  {
   "cell_type": "code",
   "execution_count": 266,
   "metadata": {},
   "outputs": [
    {
     "name": "stdout",
     "output_type": "stream",
     "text": [
      "max corr: 0.0071945430604919034 , min corr:  -0.002374704497495706\n"
     ]
    }
   ],
   "source": [
    "# 1s -> 0s in diagonals\n",
    "corrmat_nodiag = corrmat - np.diagflat(corrmat.diagonal())\n",
    "print(\"max corr:\",corrmat_nodiag.max(), \", min corr: \", corrmat_nodiag.min(),)\n",
    "# we see that correlations are indeed very close to 0"
   ]
  },
  {
   "cell_type": "markdown",
   "metadata": {},
   "source": [
    "#### Indeed - there is no correlation between any two components!\n",
    "- We effectively have removed multicollinearity from our situation, and our models will be much more stable"
   ]
  },
  {
   "cell_type": "markdown",
   "metadata": {},
   "source": [
    "# K-Mean Clustering"
   ]
  },
  {
   "cell_type": "code",
   "execution_count": 267,
   "metadata": {},
   "outputs": [],
   "source": [
    "#Importing Libraries\n",
    "import pandas as pd\n",
    "\n",
    "# For Visualisation\n",
    "import matplotlib.pyplot as plt\n",
    "import seaborn as sns\n",
    "%matplotlib inline\n",
    "\n",
    "# To Scale our data\n",
    "from sklearn.preprocessing import scale\n",
    "\n",
    "# To perform KMeans clustering \n",
    "from sklearn.cluster import KMeans\n",
    "\n",
    "# To perform Hierarchical clustering\n",
    "from scipy.cluster.hierarchy import linkage\n",
    "from scipy.cluster.hierarchy import dendrogram\n",
    "from scipy.cluster.hierarchy import cut_tree"
   ]
  },
  {
   "cell_type": "code",
   "execution_count": 268,
   "metadata": {},
   "outputs": [
    {
     "data": {
      "text/plain": [
       "array([[-2.90426527e+00,  9.16936772e-02, -7.19079824e-01,\n",
       "         9.98833692e-01, -1.46324633e-01],\n",
       "       [ 4.28580914e-01, -5.87605765e-01, -3.27625666e-01,\n",
       "        -1.16152055e+00,  1.52745853e-01],\n",
       "       [-2.84433307e-01, -4.50782980e-01,  1.22835623e+00,\n",
       "        -8.55194999e-01,  1.90653759e-01],\n",
       "       [-2.92391984e+00,  1.69367677e+00,  1.52050306e+00,\n",
       "         8.53029988e-01, -2.14133956e-01],\n",
       "       [ 1.03027289e+00,  1.33451378e-01, -2.16049426e-01,\n",
       "        -8.44099006e-01, -1.92606979e-01],\n",
       "       [ 2.28217067e-02, -1.76741994e+00,  8.61907325e-01,\n",
       "        -3.66364323e-02,  9.94903057e-01],\n",
       "       [-1.01158926e-01, -5.65616877e-01,  2.47363000e-01,\n",
       "        -1.46162757e+00, -8.55745583e-02],\n",
       "       [ 2.33513030e+00, -1.98374355e+00,  1.98198980e-01,\n",
       "         1.11007405e+00, -7.08522888e-01],\n",
       "       [ 2.96492402e+00, -7.32947745e-01, -5.26700304e-01,\n",
       "         1.19749986e+00,  7.99261337e-02],\n",
       "       [-1.80759205e-01, -3.95704713e-01,  8.65795034e-01,\n",
       "        -4.33896455e-01,  1.19996367e-01],\n",
       "       [ 1.26493530e+00, -6.56682946e-01, -4.83102011e-01,\n",
       "         5.37832398e-02, -3.97663383e-01],\n",
       "       [ 1.66601369e+00,  5.62243207e-01,  9.94473548e-01,\n",
       "        -1.97318950e-01, -3.77854492e-01],\n",
       "       [-1.12060873e+00, -9.58200964e-01,  5.41335728e-01,\n",
       "        -1.18563781e+00, -6.86284026e-01],\n",
       "       [ 1.07795440e+00, -4.83528336e-01, -6.57015327e-01,\n",
       "        -5.24992086e-01, -8.83531425e-03],\n",
       "       [ 5.78833446e-01,  5.39781635e-01,  4.70571200e-01,\n",
       "        -1.03896012e+00,  7.82358809e-01],\n",
       "       [ 3.13432962e+00,  6.60495595e-01, -6.57876057e-01,\n",
       "         1.08438292e+00,  4.44641764e-01],\n",
       "       [ 2.10275097e-01,  6.93547563e-01, -2.60945831e-01,\n",
       "        -1.09096263e+00, -2.84410782e-01],\n",
       "       [-2.66498967e+00,  4.09966089e-01, -2.36520778e-01,\n",
       "         2.88799365e-01, -1.40762048e+00],\n",
       "       [-1.56226200e-01,  7.73786070e-01, -2.78428755e-01,\n",
       "        -1.03959709e+00,  9.72918284e-02],\n",
       "       [-7.91769242e-01, -1.20634241e-01,  4.12890153e-01,\n",
       "        -7.15671932e-01, -2.05423637e-01],\n",
       "       [ 9.92922355e-01, -9.71882812e-01, -1.52947150e+00,\n",
       "        -6.36573308e-01,  8.97675290e-01],\n",
       "       [-8.78932270e-01,  4.58875716e-01, -6.00426442e-01,\n",
       "         3.92842823e-01,  2.48187732e-01],\n",
       "       [ 1.40583875e-01, -2.14318497e+00, -1.69058181e-01,\n",
       "        -1.69709243e-01,  2.83513110e-01],\n",
       "       [ 2.45329696e+00,  2.81944061e-02,  3.01348557e+00,\n",
       "         7.98833361e-01, -1.01238552e+00],\n",
       "       [ 9.03786054e-01,  2.86415891e-02, -4.64205360e-01,\n",
       "        -9.96043531e-01, -1.88913851e-02],\n",
       "       [-3.11306695e+00,  3.40295033e-02, -4.46965020e-01,\n",
       "         1.08200174e+00, -7.03671681e-01],\n",
       "       [-2.89021887e+00, -4.25414060e-01, -1.35600757e+00,\n",
       "         1.80435507e+00,  7.40127406e-01],\n",
       "       [-5.80875061e-01,  8.89744287e-01, -4.93178893e-01,\n",
       "        -8.06176652e-01, -1.55828848e-01],\n",
       "       [-2.79991094e+00,  7.34841877e-02, -3.26774551e-01,\n",
       "         5.49439220e-01, -1.30998911e+00],\n",
       "       [ 2.53614820e+00, -1.72217741e+00, -4.00555392e-01,\n",
       "         1.33043299e+00,  7.02440179e-02],\n",
       "       [-1.55636706e-01,  3.45686282e-01, -2.77078727e-01,\n",
       "        -1.33775527e+00, -5.37326582e-01],\n",
       "       [-3.95326882e+00,  3.82534265e-01, -3.16148135e-01,\n",
       "         9.21872231e-01, -1.86610188e+00],\n",
       "       [-3.54757993e+00,  1.27983519e+00, -9.36180920e-02,\n",
       "         1.21554716e+00, -1.19030875e+00],\n",
       "       [ 9.48802525e-01, -1.07216571e+00,  1.55096784e-01,\n",
       "        -4.35282300e-01,  4.31063211e-01],\n",
       "       [ 5.73029617e-02, -1.18527266e+00,  4.40398643e-01,\n",
       "        -1.26883519e+00, -2.41888728e-01],\n",
       "       [ 1.20657811e-01, -1.76543155e+00, -2.30066690e-01,\n",
       "        -7.12248450e-01, -9.55536575e-02],\n",
       "       [-2.08773987e+00,  3.36774615e-01, -3.15760433e-01,\n",
       "        -1.13267386e-01, -7.93453033e-01],\n",
       "       [-3.16390498e+00,  1.04772874e+00, -1.62920240e-02,\n",
       "         1.56790960e+00,  6.91002422e-01],\n",
       "       [-1.72057971e+00,  2.17433531e+00,  1.48897165e+00,\n",
       "        -1.26607879e-01,  1.15296158e-01],\n",
       "       [ 9.34926007e-01, -1.34805454e+00, -8.18826077e-01,\n",
       "        -2.68517840e-01,  9.86497902e-01],\n",
       "       [-2.57438972e+00,  1.20096211e+00, -2.26075055e-01,\n",
       "         6.68355149e-01, -8.43716391e-01],\n",
       "       [ 1.14535169e+00, -8.43978890e-01, -3.99701530e-01,\n",
       "        -6.23172686e-01, -1.16968395e-01],\n",
       "       [ 2.16788693e+00, -4.70294069e-03,  2.60469131e-01,\n",
       "        -3.06989020e-01, -4.20804513e-01],\n",
       "       [ 2.04692693e+00,  4.19606855e-01, -5.38712403e-01,\n",
       "        -4.14233856e-01, -6.33103426e-02],\n",
       "       [ 3.00161452e+00, -8.62689938e-01, -3.46088165e-01,\n",
       "         1.77940338e+00,  1.12864762e-01],\n",
       "       [-2.30586837e-01, -8.79794862e-01, -2.49964888e-02,\n",
       "        -6.48783218e-01, -2.01554671e-01],\n",
       "       [ 9.41730368e-03, -1.04385123e+00, -2.64498467e-01,\n",
       "        -4.88406181e-01,  3.88564731e-01],\n",
       "       [-8.45647555e-01, -8.17061983e-01,  5.95978298e-01,\n",
       "        -7.35553099e-01, -2.78595691e-01],\n",
       "       [ 8.14845888e-02, -5.69223958e-01, -5.65510401e-01,\n",
       "        -9.77270907e-01,  3.59031949e-02],\n",
       "       [-1.28938601e+00,  2.36490436e+00,  1.75368746e+00,\n",
       "         1.74305087e+00,  9.16073877e-02],\n",
       "       [-2.46724387e+00, -6.16595075e-01,  8.18747852e-01,\n",
       "        -4.74460559e-01, -8.35180935e-01],\n",
       "       [ 1.65391203e+00,  1.01736851e+00, -1.06499745e-01,\n",
       "        -8.61419828e-01, -3.11669420e-02],\n",
       "       [-1.88273069e-01,  1.06767611e+00, -1.86518552e-01,\n",
       "        -9.79214273e-01, -1.79653167e-01],\n",
       "       [ 2.45156496e+00, -1.07433695e+00, -9.66075331e-02,\n",
       "         9.00173454e-01, -4.52129053e-01],\n",
       "       [ 2.24751250e+00, -1.86348107e+00, -7.09899271e-01,\n",
       "         1.22305226e+00,  1.25199470e-01],\n",
       "       [-1.41745256e+00,  3.23619090e-01,  1.54224052e+00,\n",
       "         2.02494392e-01, -4.98069272e-01],\n",
       "       [-2.20762752e+00,  2.15487965e-01, -3.74185025e-01,\n",
       "         2.96392568e-01, -6.39876213e-01],\n",
       "       [ 3.21193533e-01, -5.16570790e-01, -9.82549561e-01,\n",
       "        -4.81432071e-01,  1.13768701e+00],\n",
       "       [ 2.66351082e+00, -1.27042971e+00, -6.60286933e-01,\n",
       "         1.11715039e+00,  1.37564169e-01],\n",
       "       [-2.04785174e+00,  3.81219819e-01,  4.11942638e-01,\n",
       "         9.16634774e-02,  1.83396851e-01],\n",
       "       [ 1.77417663e+00, -1.76216704e+00, -6.79119890e-01,\n",
       "         2.57469857e-01,  6.96923630e-02],\n",
       "       [ 1.45035709e-01, -4.33155683e-01, -4.58848365e-01,\n",
       "        -9.69966331e-01, -4.05150841e-01],\n",
       "       [-6.61731996e-01, -6.15381046e-01, -3.19772304e-01,\n",
       "        -4.43112345e-01, -8.37292419e-02],\n",
       "       [-2.96066118e+00,  7.27321122e-01,  3.84949173e-01,\n",
       "         6.68761242e-01, -1.82258897e-01],\n",
       "       [-2.82530487e+00, -9.56731745e-02, -1.20301164e+00,\n",
       "         1.12437461e+00, -5.68741812e-01],\n",
       "       [-3.21737465e-01,  1.35655651e+00, -4.76597045e-01,\n",
       "        -8.55663635e-01,  1.23737338e-01],\n",
       "       [-4.39572090e+00,  1.74191004e+00, -1.50764318e+00,\n",
       "         1.76588248e+00, -1.10591769e+00],\n",
       "       [ 1.83360544e+00,  1.26924608e+00, -4.67409227e-01,\n",
       "        -7.85095452e-01,  3.64217549e-01],\n",
       "       [ 2.47342684e+00, -6.32956516e-01,  1.02707070e-01,\n",
       "         9.19786818e-01,  1.46079426e-01],\n",
       "       [-1.33877218e+00, -5.31873181e-01,  4.76631010e-01,\n",
       "        -7.80904083e-01, -5.47417135e-01],\n",
       "       [-9.51704464e-01, -7.25457234e-01,  1.38288339e+00,\n",
       "        -1.12927204e+00, -3.19490218e-01],\n",
       "       [-7.21764514e-04, -1.32456937e+00,  1.02237783e+00,\n",
       "        -7.48058315e-01,  2.79952629e-01],\n",
       "       [-1.02601092e+00, -2.81206244e-01,  1.89829012e-01,\n",
       "         5.62005030e-01,  7.67915620e-01],\n",
       "       [ 3.65726773e+00,  1.72114582e+00, -5.28797784e-01,\n",
       "         9.85505432e-01, -1.03436201e-01],\n",
       "       [ 1.48050873e+00, -1.05024101e+00,  9.45390619e-02,\n",
       "         3.29197625e-01, -4.24923934e-01],\n",
       "       [ 2.15930364e+00, -1.76865983e+00, -2.77515132e-01,\n",
       "         5.16230047e-01, -2.88873837e-01],\n",
       "       [ 1.85844401e-02, -2.37454171e-01,  3.37630800e-01,\n",
       "        -1.21768575e+00,  1.63639438e-01],\n",
       "       [ 2.25899670e+00, -2.43069764e+00, -2.17083977e-01,\n",
       "         7.15404536e-01, -6.63756405e-01],\n",
       "       [ 1.59420211e-01,  5.35833600e-01, -5.55793443e-01,\n",
       "        -3.80778164e-01,  8.24001873e-01],\n",
       "       [-2.92003777e-01, -2.29171873e-01,  1.48675964e+00,\n",
       "        -4.44572136e-01,  2.21029982e-01],\n",
       "       [-1.86939655e+00, -1.75417173e-01, -2.29921387e-01,\n",
       "        -2.78280530e-01, -9.64029559e-01],\n",
       "       [-1.23529668e+00,  3.62224320e-01, -2.38302561e+00,\n",
       "         5.65606795e-01,  6.70724820e-01],\n",
       "       [ 2.45853428e+00,  9.55536157e-02,  2.65590735e+00,\n",
       "         7.33199154e-01, -1.36892837e+00],\n",
       "       [-3.38891257e-01,  1.29362869e+00, -4.36141248e-01,\n",
       "        -8.23807082e-01,  7.09185313e-01],\n",
       "       [-1.52321935e+00,  5.45057843e-01,  1.34878229e-01,\n",
       "        -4.13622759e-01, -3.51526398e-01],\n",
       "       [ 1.18521075e+00,  1.60001384e-01, -4.81345876e-01,\n",
       "        -9.32107846e-01, -2.24407593e-01],\n",
       "       [ 1.16825900e+00, -2.59086185e-01, -6.10630113e-01,\n",
       "        -1.05524610e+00,  4.71144552e-02],\n",
       "       [-1.79705383e+00,  2.03148221e+00, -2.53772982e+00,\n",
       "         1.03402800e+00,  7.23200693e-01],\n",
       "       [-1.76820678e+00,  1.04374649e+00, -2.41192490e+00,\n",
       "         1.15084759e+00,  1.01288240e+00],\n",
       "       [ 8.16511891e-01,  3.93450329e-01,  1.49265599e+00,\n",
       "        -6.06004241e-01, -3.75648410e-02],\n",
       "       [ 1.40558740e+00,  7.27414468e-01, -4.09197125e-01,\n",
       "        -7.68809495e-01,  1.68953801e-01],\n",
       "       [ 6.89710747e+00,  4.84075404e+00,  9.57208313e-01,\n",
       "         3.12521183e+00, -2.66328039e-01],\n",
       "       [ 7.31017926e-01, -9.61500863e-02, -6.53905135e-01,\n",
       "        -1.14269281e+00,  1.91987651e-01],\n",
       "       [-2.12968600e+00,  3.39899856e-01,  2.44527487e-01,\n",
       "        -3.10256743e-01, -6.12957957e-01],\n",
       "       [-2.97079024e+00,  2.15787856e-01, -2.07768454e-01,\n",
       "         8.35579376e-01, -2.31524463e-01],\n",
       "       [ 1.22697023e+00,  1.59810647e+00,  5.41481043e-01,\n",
       "        -1.07986987e+00,  1.00795486e-01],\n",
       "       [ 1.10478893e+00,  1.00330877e+00, -2.60121854e-01,\n",
       "        -1.08639497e+00,  2.68808163e-01],\n",
       "       [-3.40277115e+00,  5.52654489e-01, -2.31940519e-01,\n",
       "         1.08181822e+00, -1.25165550e+00],\n",
       "       [ 3.66819425e+00,  4.75043870e+00, -1.05114174e+00,\n",
       "        -5.19383008e-01,  1.59779581e+00],\n",
       "       [-1.94836877e+00,  1.38026922e+00,  7.23826414e-01,\n",
       "         2.00946402e-01,  3.43303127e-01],\n",
       "       [ 8.97002764e-01,  4.13843004e-01, -3.77130503e-01,\n",
       "        -1.07285865e+00, -1.32355419e-01],\n",
       "       [-3.79515109e-01,  9.62466970e-02, -2.73473985e+00,\n",
       "         7.37880500e-01,  1.57192216e+00],\n",
       "       [ 5.08609445e-01,  1.63513801e-01, -1.59552609e+00,\n",
       "        -4.46849990e-01,  1.91365025e+00],\n",
       "       [-9.40982615e-01,  5.43931756e-01,  1.81097621e+00,\n",
       "        -3.99904752e-01,  2.21471582e+00],\n",
       "       [ 1.02358451e+00, -2.59975001e-01, -1.10282441e+00,\n",
       "        -7.25569488e-01,  5.62763548e-01],\n",
       "       [-2.32543730e-01, -2.84178896e-01, -2.43609904e-01,\n",
       "        -1.07001287e+00, -5.00684960e-01],\n",
       "       [-2.91195486e+00,  8.87626629e-01, -2.54884997e-01,\n",
       "         6.34850102e-01, -6.96216237e-01],\n",
       "       [-1.83175453e+00, -1.60732800e+00,  1.03019927e+00,\n",
       "        -1.10484543e+00, -1.39079696e+00],\n",
       "       [-1.04017147e+00,  9.98094890e-01, -7.35101597e-01,\n",
       "         8.44937414e-02, -2.55233497e-01],\n",
       "       [-1.30285447e+00, -7.83389073e-01,  3.84782867e-01,\n",
       "        -7.52876611e-01,  2.78091439e-01],\n",
       "       [ 3.36901123e+00,  1.14220006e-01, -7.50101013e-01,\n",
       "         1.53139177e+00,  3.77941442e-01],\n",
       "       [ 1.81026140e+00, -1.58143496e+00, -2.56593686e-01,\n",
       "         7.34017120e-01,  7.91401936e-02],\n",
       "       [-3.44064234e+00,  9.56766702e-01, -5.60954927e-01,\n",
       "         1.13393184e+00, -1.18607976e+00],\n",
       "       [-4.89476792e+00, -5.16179074e-02,  5.99203690e+00,\n",
       "         2.40763415e+00,  5.38833140e+00],\n",
       "       [ 3.71038152e+00, -1.43944833e+00,  8.75851721e-01,\n",
       "         2.76760503e+00, -7.45520964e-01],\n",
       "       [ 1.12414188e+00,  4.96130119e-01,  2.13690933e+00,\n",
       "        -1.57065111e-01, -4.39222009e-01],\n",
       "       [-2.35348463e+00, -4.77208835e-01,  1.02617492e+00,\n",
       "        -4.05489838e-01, -1.09694576e+00],\n",
       "       [ 1.15990299e+00,  1.10784350e+00, -7.88099108e-01,\n",
       "        -5.50358224e-01,  5.63441666e-01],\n",
       "       [ 1.17187765e-01,  3.58076115e-01, -3.68358285e-02,\n",
       "        -9.42848736e-01,  1.45752032e-01],\n",
       "       [-2.09134737e-02, -1.08532061e+00,  4.25646841e-01,\n",
       "        -1.05728985e+00, -3.40636087e-01],\n",
       "       [-7.80660775e-01, -9.85405418e-02,  3.28695180e-01,\n",
       "        -1.07062483e+00, -7.14905367e-01],\n",
       "       [ 1.21416128e+00, -6.58085262e-01, -3.03803712e-01,\n",
       "        -6.95563089e-01, -7.75991221e-02],\n",
       "       [ 1.80865608e+00, -1.44862627e+00, -9.40553667e-01,\n",
       "         1.84648892e-01,  3.44094885e-01],\n",
       "       [ 4.23016607e+00, -1.84612545e-01,  3.64471582e+00,\n",
       "         2.42231119e+00, -2.80680122e+00],\n",
       "       [ 5.71120364e-01, -6.35400829e-01,  9.59240095e-02,\n",
       "        -1.02547029e+00, -3.37584004e-01],\n",
       "       [ 1.63846333e-01, -1.05645289e+00,  1.08806179e+00,\n",
       "        -6.39015006e-01, -4.85560042e-02],\n",
       "       [-1.67488407e+00, -1.00494703e+00, -1.45933917e+00,\n",
       "         6.63003080e-01,  1.25126420e-01],\n",
       "       [-5.61612179e-01, -2.93956666e-02, -6.18080156e-01,\n",
       "        -5.29232482e-01, -1.75441414e-01],\n",
       "       [ 8.53685249e-01, -1.76310914e-01,  1.90191736e+00,\n",
       "         2.16725123e-01, -2.07269197e-01],\n",
       "       [-1.90691282e+00,  8.44255953e-02, -4.86895411e-01,\n",
       "         3.30680279e-02, -7.69253577e-01],\n",
       "       [ 8.30155173e-01, -8.66737503e-01, -1.02372057e+00,\n",
       "        -5.16995886e-01,  9.56783719e-01],\n",
       "       [ 1.59732399e+00,  2.92562420e+00, -3.79857275e-01,\n",
       "        -1.39672904e+00, -5.32367298e-01],\n",
       "       [-3.37128305e+00, -2.34147515e-01, -1.39642495e+00,\n",
       "         2.55557728e+00,  1.03492863e+00],\n",
       "       [ 5.76563194e+00,  6.66422471e+00,  6.26500381e-01,\n",
       "         8.98260533e-02,  2.53992352e-02],\n",
       "       [ 2.02357519e+00,  1.04585993e+00, -8.60698613e-01,\n",
       "        -3.81186975e-01,  4.41196561e-01],\n",
       "       [ 2.27246335e+00,  1.91872260e-01, -8.00020398e-01,\n",
       "        -7.37438978e-02,  2.38441798e-01],\n",
       "       [-8.03676395e-01,  1.29603914e+00, -1.23650786e+00,\n",
       "        -5.66722813e-02,  7.71189600e-01],\n",
       "       [-1.18767328e+00, -5.52181527e-01, -7.28046604e-01,\n",
       "         5.37074062e-01, -1.08995722e-01],\n",
       "       [ 1.91226525e+00, -4.25831549e-01,  1.45278883e-01,\n",
       "        -4.69203886e-01, -1.35904966e-01],\n",
       "       [ 2.01308838e+00, -1.78082308e+00, -3.72119193e-01,\n",
       "         2.63541777e-01, -1.94192697e-01],\n",
       "       [-5.73407832e-01, -9.86963514e-01,  1.75046099e+00,\n",
       "        -1.36519635e+00,  4.72230240e-01],\n",
       "       [ 2.65913801e-02, -1.69405448e-02, -3.29212986e-02,\n",
       "        -1.22167558e+00, -2.96015684e-01],\n",
       "       [-2.31248663e+00, -7.65079973e-01,  7.33641852e-01,\n",
       "         4.97660561e-01,  2.96382390e-01],\n",
       "       [ 1.71139235e-01, -9.39606983e-02,  1.64607840e-02,\n",
       "        -3.76081001e-01,  1.09763324e-01],\n",
       "       [ 2.80981265e+00, -9.13104872e-01, -1.00969310e-01,\n",
       "         1.24196608e+00, -3.09007163e-01],\n",
       "       [ 4.07636372e+00, -4.28003515e-01, -2.75530624e-01,\n",
       "         2.29980263e+00, -1.84127012e-01],\n",
       "       [-1.24064536e+00, -2.93155267e-02, -1.53296807e-01,\n",
       "        -4.83693465e-01,  4.16265670e-01],\n",
       "       [-2.54651108e+00, -2.17342415e-01, -7.77222099e-02,\n",
       "         4.65770292e-01, -4.43147403e-01],\n",
       "       [ 9.23033166e-01,  8.25496222e-01,  3.51668572e-01,\n",
       "        -1.58678677e+00, -1.93329401e-01],\n",
       "       [-2.36477661e+00, -1.17343700e+00,  3.91648871e-01,\n",
       "         1.15601669e+00,  1.41411352e+00],\n",
       "       [-1.99200258e+00,  9.49415448e-01, -1.21359120e+00,\n",
       "         5.53817874e-01, -3.93825093e-01],\n",
       "       [-7.52852965e-01, -9.30869478e-02, -4.09392913e-01,\n",
       "        -8.51452111e-01, -2.65830193e-01],\n",
       "       [ 6.00135569e-01,  1.70567865e-01, -2.33593428e-01,\n",
       "        -1.11557629e+00,  1.39698116e-01],\n",
       "       [ 4.00166962e-01, -1.40805095e+00,  2.36534615e-01,\n",
       "        -5.57664760e-01, -7.01665607e-02],\n",
       "       [-4.63118945e-01,  1.28683214e+00,  6.16600692e-01,\n",
       "        -9.24715538e-01, -1.08205810e+00],\n",
       "       [-2.84632101e+00, -3.54719791e-01, -6.97214277e-01,\n",
       "         1.29017936e+00,  8.92832002e-02],\n",
       "       [ 3.01820094e-01, -9.27169496e-02, -1.03558684e-01,\n",
       "        -8.88165904e-01,  1.03126630e+00],\n",
       "       [ 2.42021218e+00,  1.15562471e+00,  1.81752385e+00,\n",
       "         2.87949546e-01, -4.61381708e-01],\n",
       "       [ 2.06179782e+00, -1.53222000e+00, -2.48341114e-01,\n",
       "         7.90452737e-01, -2.23221239e-01],\n",
       "       [ 2.63372690e+00, -2.98970437e+00, -1.73581365e+00,\n",
       "         2.80140116e+00,  8.13969316e-01],\n",
       "       [ 6.15435636e-01, -1.42723289e+00, -2.34601295e-01,\n",
       "        -3.58525510e-01,  1.18180603e-01],\n",
       "       [-8.50679791e-01, -6.47573309e-01,  6.15425586e-01,\n",
       "        -7.20397091e-01,  4.91119826e-01],\n",
       "       [-8.18291589e-01,  6.34495783e-01, -3.78350393e-01,\n",
       "        -7.04766720e-01, -3.99180261e-01],\n",
       "       [-5.48245416e-01, -1.21137449e+00,  3.06533670e+00,\n",
       "        -1.08268709e-01,  2.10768601e+00],\n",
       "       [ 4.97074928e-01,  1.38860077e+00, -2.52090505e-01,\n",
       "        -1.08178356e+00,  1.15300308e+00],\n",
       "       [-1.88163538e+00, -1.05080553e-01,  1.10431809e+00,\n",
       "         6.24481291e-02,  6.63471607e-01],\n",
       "       [-2.85529810e+00,  4.85874848e-01,  2.21252475e-01,\n",
       "         8.16535570e-01, -2.65123442e-01]])"
      ]
     },
     "execution_count": 268,
     "metadata": {},
     "output_type": "execute_result"
    }
   ],
   "source": [
    "df_normalized_pca"
   ]
  },
  {
   "cell_type": "code",
   "execution_count": 269,
   "metadata": {},
   "outputs": [],
   "source": [
    "df_kmeans = pd.DataFrame(df_normalized_pca)"
   ]
  },
  {
   "cell_type": "code",
   "execution_count": 270,
   "metadata": {},
   "outputs": [
    {
     "data": {
      "text/html": [
       "<div>\n",
       "<style scoped>\n",
       "    .dataframe tbody tr th:only-of-type {\n",
       "        vertical-align: middle;\n",
       "    }\n",
       "\n",
       "    .dataframe tbody tr th {\n",
       "        vertical-align: top;\n",
       "    }\n",
       "\n",
       "    .dataframe thead th {\n",
       "        text-align: right;\n",
       "    }\n",
       "</style>\n",
       "<table border=\"1\" class=\"dataframe\">\n",
       "  <thead>\n",
       "    <tr style=\"text-align: right;\">\n",
       "      <th></th>\n",
       "      <th>0</th>\n",
       "      <th>1</th>\n",
       "      <th>2</th>\n",
       "      <th>3</th>\n",
       "      <th>4</th>\n",
       "    </tr>\n",
       "  </thead>\n",
       "  <tbody>\n",
       "    <tr>\n",
       "      <th>0</th>\n",
       "      <td>-2.904265</td>\n",
       "      <td>0.091694</td>\n",
       "      <td>-0.719080</td>\n",
       "      <td>0.998834</td>\n",
       "      <td>-0.146325</td>\n",
       "    </tr>\n",
       "    <tr>\n",
       "      <th>1</th>\n",
       "      <td>0.428581</td>\n",
       "      <td>-0.587606</td>\n",
       "      <td>-0.327626</td>\n",
       "      <td>-1.161521</td>\n",
       "      <td>0.152746</td>\n",
       "    </tr>\n",
       "    <tr>\n",
       "      <th>2</th>\n",
       "      <td>-0.284433</td>\n",
       "      <td>-0.450783</td>\n",
       "      <td>1.228356</td>\n",
       "      <td>-0.855195</td>\n",
       "      <td>0.190654</td>\n",
       "    </tr>\n",
       "    <tr>\n",
       "      <th>3</th>\n",
       "      <td>-2.923920</td>\n",
       "      <td>1.693677</td>\n",
       "      <td>1.520503</td>\n",
       "      <td>0.853030</td>\n",
       "      <td>-0.214134</td>\n",
       "    </tr>\n",
       "    <tr>\n",
       "      <th>4</th>\n",
       "      <td>1.030273</td>\n",
       "      <td>0.133451</td>\n",
       "      <td>-0.216049</td>\n",
       "      <td>-0.844099</td>\n",
       "      <td>-0.192607</td>\n",
       "    </tr>\n",
       "  </tbody>\n",
       "</table>\n",
       "</div>"
      ],
      "text/plain": [
       "          0         1         2         3         4\n",
       "0 -2.904265  0.091694 -0.719080  0.998834 -0.146325\n",
       "1  0.428581 -0.587606 -0.327626 -1.161521  0.152746\n",
       "2 -0.284433 -0.450783  1.228356 -0.855195  0.190654\n",
       "3 -2.923920  1.693677  1.520503  0.853030 -0.214134\n",
       "4  1.030273  0.133451 -0.216049 -0.844099 -0.192607"
      ]
     },
     "execution_count": 270,
     "metadata": {},
     "output_type": "execute_result"
    }
   ],
   "source": [
    "df_kmeans.head()"
   ]
  },
  {
   "cell_type": "markdown",
   "metadata": {},
   "source": []
  },
  {
   "cell_type": "markdown",
   "metadata": {},
   "source": [
    "## Hopkins Statistics:\n",
    "The Hopkins statistic, is a statistic which gives a value which indicates the cluster tendency, in other words: how well the data can be clustered.\n",
    "\n",
    "- If the value is between {0.01, ...,0.3}, the data is regularly spaced.\n",
    "\n",
    "- If the value is around 0.5, it is random.\n",
    "\n",
    "- If the value is between {0.7, ..., 0.99}, it has a high tendency to cluster."
   ]
  },
  {
   "cell_type": "code",
   "execution_count": 271,
   "metadata": {},
   "outputs": [],
   "source": [
    "from sklearn.neighbors import NearestNeighbors\n",
    "from random import sample\n",
    "from numpy.random import uniform\n",
    "import numpy as np\n",
    "from math import isnan\n",
    " \n",
    "def hopkins(X):\n",
    "    d = X.shape[1]\n",
    "    #d = len(vars) # columns\n",
    "    n = len(X) # rows\n",
    "    m = int(0.1 * n) \n",
    "    nbrs = NearestNeighbors(n_neighbors=1).fit(X.values)\n",
    " \n",
    "    rand_X = sample(range(0, n, 1), m)\n",
    " \n",
    "    ujd = []\n",
    "    wjd = []\n",
    "    for j in range(0, m):\n",
    "        u_dist, _ = nbrs.kneighbors(uniform(np.amin(X,axis=0),np.amax(X,axis=0),d).reshape(1, -1), 2, return_distance=True)\n",
    "        ujd.append(u_dist[0][1])\n",
    "        w_dist, _ = nbrs.kneighbors(X.iloc[rand_X[j]].values.reshape(1, -1), 2, return_distance=True)\n",
    "        wjd.append(w_dist[0][1])\n",
    " \n",
    "    H = sum(ujd) / (sum(ujd) + sum(wjd))\n",
    "    if isnan(H):\n",
    "        print(ujd, wjd)\n",
    "        H = 0\n",
    " \n",
    "    return H"
   ]
  },
  {
   "cell_type": "code",
   "execution_count": 272,
   "metadata": {
    "scrolled": true
   },
   "outputs": [
    {
     "data": {
      "text/plain": [
       "0.8518871763264158"
      ]
     },
     "execution_count": 272,
     "metadata": {},
     "output_type": "execute_result"
    }
   ],
   "source": [
    "hopkins(df_kmeans)"
   ]
  },
  {
   "cell_type": "markdown",
   "metadata": {},
   "source": [
    "##### from hopkins statistics we get to know there is high tendency in clusters."
   ]
  },
  {
   "cell_type": "code",
   "execution_count": 273,
   "metadata": {},
   "outputs": [
    {
     "data": {
      "text/plain": [
       "KMeans(algorithm='auto', copy_x=True, init='k-means++', max_iter=50,\n",
       "    n_clusters=5, n_init=10, n_jobs=1, precompute_distances='auto',\n",
       "    random_state=None, tol=0.0001, verbose=0)"
      ]
     },
     "execution_count": 273,
     "metadata": {},
     "output_type": "execute_result"
    }
   ],
   "source": [
    "model_clus5 = KMeans(n_clusters = 5, max_iter=50)\n",
    "model_clus5.fit(df_kmeans)"
   ]
  },
  {
   "cell_type": "code",
   "execution_count": 274,
   "metadata": {},
   "outputs": [],
   "source": [
    "from sklearn.metrics import silhouette_score\n",
    "sse_ = []\n",
    "for k in range(2, 15):\n",
    "    kmeans = KMeans(n_clusters=k).fit(df_kmeans)\n",
    "    sse_.append([k, silhouette_score(df_kmeans, kmeans.labels_)])"
   ]
  },
  {
   "cell_type": "code",
   "execution_count": 275,
   "metadata": {},
   "outputs": [
    {
     "data": {
      "image/png": "[encoded data removed]",
      "text/plain": [
       "<Figure size 432x288 with 1 Axes>"
      ]
     },
     "metadata": {},
     "output_type": "display_data"
    }
   ],
   "source": [
    "plt.plot(pd.DataFrame(sse_)[0], pd.DataFrame(sse_)[1]);"
   ]
  },
  {
   "cell_type": "code",
   "execution_count": 276,
   "metadata": {},
   "outputs": [
    {
     "data": {
      "text/plain": [
       "[<matplotlib.lines.Line2D at 0xc876710>]"
      ]
     },
     "execution_count": 276,
     "metadata": {},
     "output_type": "execute_result"
    },
    {
     "data": {
      "image/png": "[encoded data removed]",
      "text/plain": [
       "<Figure size 432x288 with 1 Axes>"
      ]
     },
     "metadata": {},
     "output_type": "display_data"
    }
   ],
   "source": [
    "# sum of squared distances\n",
    "ssd = []\n",
    "for num_clusters in list(range(1,21)):\n",
    "    model_clus = KMeans(n_clusters = num_clusters, max_iter=50)\n",
    "    model_clus.fit(df_kmeans)\n",
    "    ssd.append(model_clus.inertia_)\n",
    "\n",
    "plt.plot(ssd)"
   ]
  },
  {
   "cell_type": "markdown",
   "metadata": {},
   "source": [
    "from sklearn.preprocessing import StandardScaler\n",
    "standard_scaler = StandardScaler()\n",
    "df_kmeans = standard_scaler.fit_transform(df_kmeans)"
   ]
  },
  {
   "cell_type": "code",
   "execution_count": 277,
   "metadata": {},
   "outputs": [],
   "source": [
    "# analysis of clusters formed\n",
    "country.index = pd.RangeIndex(len(country.index))"
   ]
  },
  {
   "cell_type": "code",
   "execution_count": 278,
   "metadata": {},
   "outputs": [
    {
     "data": {
      "text/plain": [
       "Index(['country', 'child_mort', 'exports', 'health', 'imports', 'income',\n",
       "       'inflation', 'life_expec', 'total_fer', 'gdpp'],\n",
       "      dtype='object')"
      ]
     },
     "execution_count": 278,
     "metadata": {},
     "output_type": "execute_result"
    }
   ],
   "source": [
    "country.columns"
   ]
  },
  {
   "cell_type": "code",
   "execution_count": 279,
   "metadata": {},
   "outputs": [],
   "source": [
    "df_km = pd.concat([country, pd.Series(model_clus5.labels_)], axis=1)\n",
    "df_km.columns = ['country', 'child_mort','exports', 'health','imports','income','inflation', 'life_expec','total_fer','gdpp','ClusterID']"
   ]
  },
  {
   "cell_type": "markdown",
   "metadata": {},
   "source": [
    "Creating dataframes for all variables"
   ]
  },
  {
   "cell_type": "code",
   "execution_count": 280,
   "metadata": {},
   "outputs": [],
   "source": [
    "km_clusters_child_mort = \tpd.DataFrame(df_km.groupby([\"ClusterID\"]).child_mort.mean())\n",
    "km_clusters_exports = \tpd.DataFrame(df_km.groupby([\"ClusterID\"]).exports.mean())\n",
    "km_clusters_health = \tpd.DataFrame(df_km.groupby([\"ClusterID\"]).health.mean())\n",
    "km_clusters_income = \tpd.DataFrame(df_km.groupby([\"ClusterID\"]).income.mean())\n",
    "km_clusters_imports = \tpd.DataFrame(df_km.groupby([\"ClusterID\"]).imports.mean())\n",
    "km_clusters_inflation = \tpd.DataFrame(df_km.groupby([\"ClusterID\"]).inflation.mean())\n",
    "km_clusters_life_expec = \tpd.DataFrame(df_km.groupby([\"ClusterID\"]).life_expec.mean())\n",
    "km_clusters_total_fer = \tpd.DataFrame(df_km.groupby([\"ClusterID\"]).total_fer.mean())\n",
    "km_clusters_gdpp = \tpd.DataFrame(df_km.groupby([\"ClusterID\"]).gdpp.mean())"
   ]
  },
  {
   "cell_type": "code",
   "execution_count": 281,
   "metadata": {
    "scrolled": true
   },
   "outputs": [
    {
     "data": {
      "text/html": [
       "<div>\n",
       "<style scoped>\n",
       "    .dataframe tbody tr th:only-of-type {\n",
       "        vertical-align: middle;\n",
       "    }\n",
       "\n",
       "    .dataframe tbody tr th {\n",
       "        vertical-align: top;\n",
       "    }\n",
       "\n",
       "    .dataframe thead th {\n",
       "        text-align: right;\n",
       "    }\n",
       "</style>\n",
       "<table border=\"1\" class=\"dataframe\">\n",
       "  <thead>\n",
       "    <tr style=\"text-align: right;\">\n",
       "      <th></th>\n",
       "      <th>ClusterID</th>\n",
       "      <th>child_mort_mean</th>\n",
       "      <th>exports_mean</th>\n",
       "      <th>health_mean</th>\n",
       "      <th>income_mean</th>\n",
       "      <th>imports_mean</th>\n",
       "      <th>inflation_mean</th>\n",
       "      <th>life_expec_mean</th>\n",
       "      <th>total_fer_mean</th>\n",
       "      <th>gdpp_mean</th>\n",
       "    </tr>\n",
       "  </thead>\n",
       "  <tbody>\n",
       "    <tr>\n",
       "      <th>0</th>\n",
       "      <td>0</td>\n",
       "      <td>21.389655</td>\n",
       "      <td>41.290678</td>\n",
       "      <td>6.235862</td>\n",
       "      <td>12968.620690</td>\n",
       "      <td>48.038689</td>\n",
       "      <td>7.413460</td>\n",
       "      <td>72.935632</td>\n",
       "      <td>2.286552</td>\n",
       "      <td>6919.103448</td>\n",
       "    </tr>\n",
       "    <tr>\n",
       "      <th>1</th>\n",
       "      <td>1</td>\n",
       "      <td>92.156522</td>\n",
       "      <td>29.235000</td>\n",
       "      <td>6.417174</td>\n",
       "      <td>3916.152174</td>\n",
       "      <td>42.865217</td>\n",
       "      <td>10.020109</td>\n",
       "      <td>59.158696</td>\n",
       "      <td>4.990000</td>\n",
       "      <td>1913.521739</td>\n",
       "    </tr>\n",
       "    <tr>\n",
       "      <th>2</th>\n",
       "      <td>2</td>\n",
       "      <td>4.953333</td>\n",
       "      <td>45.826667</td>\n",
       "      <td>9.168667</td>\n",
       "      <td>45250.000000</td>\n",
       "      <td>39.736667</td>\n",
       "      <td>2.742200</td>\n",
       "      <td>80.376667</td>\n",
       "      <td>1.795333</td>\n",
       "      <td>43333.333333</td>\n",
       "    </tr>\n",
       "    <tr>\n",
       "      <th>3</th>\n",
       "      <td>3</td>\n",
       "      <td>4.133333</td>\n",
       "      <td>176.000000</td>\n",
       "      <td>6.793333</td>\n",
       "      <td>64033.333333</td>\n",
       "      <td>156.666667</td>\n",
       "      <td>2.468000</td>\n",
       "      <td>81.433333</td>\n",
       "      <td>1.380000</td>\n",
       "      <td>57566.666667</td>\n",
       "    </tr>\n",
       "    <tr>\n",
       "      <th>4</th>\n",
       "      <td>4</td>\n",
       "      <td>130.000000</td>\n",
       "      <td>25.300000</td>\n",
       "      <td>5.070000</td>\n",
       "      <td>5150.000000</td>\n",
       "      <td>17.400000</td>\n",
       "      <td>104.000000</td>\n",
       "      <td>60.500000</td>\n",
       "      <td>5.840000</td>\n",
       "      <td>2330.000000</td>\n",
       "    </tr>\n",
       "  </tbody>\n",
       "</table>\n",
       "</div>"
      ],
      "text/plain": [
       "   ClusterID  child_mort_mean  exports_mean  health_mean   income_mean  \\\n",
       "0          0        21.389655     41.290678     6.235862  12968.620690   \n",
       "1          1        92.156522     29.235000     6.417174   3916.152174   \n",
       "2          2         4.953333     45.826667     9.168667  45250.000000   \n",
       "3          3         4.133333    176.000000     6.793333  64033.333333   \n",
       "4          4       130.000000     25.300000     5.070000   5150.000000   \n",
       "\n",
       "   imports_mean  inflation_mean  life_expec_mean  total_fer_mean     gdpp_mean  \n",
       "0     48.038689        7.413460        72.935632        2.286552   6919.103448  \n",
       "1     42.865217       10.020109        59.158696        4.990000   1913.521739  \n",
       "2     39.736667        2.742200        80.376667        1.795333  43333.333333  \n",
       "3    156.666667        2.468000        81.433333        1.380000  57566.666667  \n",
       "4     17.400000      104.000000        60.500000        5.840000   2330.000000  "
      ]
     },
     "execution_count": 281,
     "metadata": {},
     "output_type": "execute_result"
    }
   ],
   "source": [
    "df = pd.concat([pd.Series([0,1,2,3,4]), km_clusters_child_mort,km_clusters_exports,km_clusters_health,km_clusters_income,km_clusters_imports,km_clusters_inflation,km_clusters_life_expec,km_clusters_total_fer,km_clusters_gdpp], axis=1)\n",
    "df.columns = [\"ClusterID\", \"child_mort_mean\",\"exports_mean\",\"health_mean\",\"income_mean\",\"imports_mean\",\"inflation_mean\",\"life_expec_mean\",\"total_fer_mean\",\"gdpp_mean\"]\n",
    "df.head()"
   ]
  },
  {
   "cell_type": "markdown",
   "metadata": {},
   "source": [
    "### Plotting grap for analysis"
   ]
  },
  {
   "cell_type": "code",
   "execution_count": 282,
   "metadata": {},
   "outputs": [
    {
     "data": {
      "text/plain": [
       "<matplotlib.axes._subplots.AxesSubplot at 0xc8822e8>"
      ]
     },
     "execution_count": 282,
     "metadata": {},
     "output_type": "execute_result"
    },
    {
     "data": {
      "image/png": "[encoded data removed]",
      "text/plain": [
       "<Figure size 432x288 with 1 Axes>"
      ]
     },
     "metadata": {},
     "output_type": "display_data"
    }
   ],
   "source": [
    "sns.barplot(x=df.ClusterID, y=df.gdpp_mean)"
   ]
  },
  {
   "cell_type": "code",
   "execution_count": 283,
   "metadata": {},
   "outputs": [
    {
     "data": {
      "text/plain": [
       "<matplotlib.axes._subplots.AxesSubplot at 0x9d439e8>"
      ]
     },
     "execution_count": 283,
     "metadata": {},
     "output_type": "execute_result"
    },
    {
     "data": {
      "image/png": "[encoded data removed]",
      "text/plain": [
       "<Figure size 432x288 with 1 Axes>"
      ]
     },
     "metadata": {},
     "output_type": "display_data"
    }
   ],
   "source": [
    "sns.barplot(x=df.ClusterID, y=df.child_mort_mean)\n"
   ]
  },
  {
   "cell_type": "code",
   "execution_count": 284,
   "metadata": {},
   "outputs": [
    {
     "data": {
      "text/plain": [
       "<matplotlib.axes._subplots.AxesSubplot at 0x9cad978>"
      ]
     },
     "execution_count": 284,
     "metadata": {},
     "output_type": "execute_result"
    },
    {
     "data": {
      "image/png": "[encoded data removed]",
      "text/plain": [
       "<Figure size 432x288 with 1 Axes>"
      ]
     },
     "metadata": {},
     "output_type": "display_data"
    }
   ],
   "source": [
    "sns.barplot(x=df.ClusterID, y=df.life_expec_mean)\n"
   ]
  },
  {
   "cell_type": "code",
   "execution_count": 285,
   "metadata": {},
   "outputs": [
    {
     "data": {
      "text/plain": [
       "<matplotlib.axes._subplots.AxesSubplot at 0x9d4d240>"
      ]
     },
     "execution_count": 285,
     "metadata": {},
     "output_type": "execute_result"
    },
    {
     "data": {
      "image/png": "[encoded data removed]",
      "text/plain": [
       "<Figure size 432x288 with 1 Axes>"
      ]
     },
     "metadata": {},
     "output_type": "display_data"
    }
   ],
   "source": [
    "sns.barplot(x=df.ClusterID, y=df.income_mean)\n"
   ]
  },
  {
   "cell_type": "code",
   "execution_count": 286,
   "metadata": {},
   "outputs": [
    {
     "data": {
      "text/plain": [
       "<matplotlib.axes._subplots.AxesSubplot at 0xc3853c8>"
      ]
     },
     "execution_count": 286,
     "metadata": {},
     "output_type": "execute_result"
    },
    {
     "data": {
      "image/png": "[encoded data removed]",
      "text/plain": [
       "<Figure size 432x288 with 1 Axes>"
      ]
     },
     "metadata": {},
     "output_type": "display_data"
    }
   ],
   "source": [
    "sns.barplot(x=df.ClusterID, y=df.exports_mean)"
   ]
  },
  {
   "cell_type": "markdown",
   "metadata": {},
   "source": [
    "## Inference\n",
    "from above charts it simplify that cluster 4 & 1 having very low income, gdpp, life expectency,export and high child mortality rate."
   ]
  },
  {
   "cell_type": "code",
   "execution_count": 287,
   "metadata": {},
   "outputs": [
    {
     "data": {
      "text/html": [
       "<div>\n",
       "<style scoped>\n",
       "    .dataframe tbody tr th:only-of-type {\n",
       "        vertical-align: middle;\n",
       "    }\n",
       "\n",
       "    .dataframe tbody tr th {\n",
       "        vertical-align: top;\n",
       "    }\n",
       "\n",
       "    .dataframe thead th {\n",
       "        text-align: right;\n",
       "    }\n",
       "</style>\n",
       "<table border=\"1\" class=\"dataframe\">\n",
       "  <thead>\n",
       "    <tr style=\"text-align: right;\">\n",
       "      <th></th>\n",
       "      <th>country</th>\n",
       "      <th>child_mort</th>\n",
       "      <th>exports</th>\n",
       "      <th>health</th>\n",
       "      <th>imports</th>\n",
       "      <th>income</th>\n",
       "      <th>inflation</th>\n",
       "      <th>life_expec</th>\n",
       "      <th>total_fer</th>\n",
       "      <th>gdpp</th>\n",
       "      <th>ClusterID</th>\n",
       "    </tr>\n",
       "  </thead>\n",
       "  <tbody>\n",
       "    <tr>\n",
       "      <th>113</th>\n",
       "      <td>Nigeria</td>\n",
       "      <td>130.0</td>\n",
       "      <td>25.3</td>\n",
       "      <td>5.07</td>\n",
       "      <td>17.4</td>\n",
       "      <td>5150</td>\n",
       "      <td>104.0</td>\n",
       "      <td>60.5</td>\n",
       "      <td>5.84</td>\n",
       "      <td>2330</td>\n",
       "      <td>4</td>\n",
       "    </tr>\n",
       "  </tbody>\n",
       "</table>\n",
       "</div>"
      ],
      "text/plain": [
       "     country  child_mort  exports  health  imports  income  inflation  \\\n",
       "113  Nigeria       130.0     25.3    5.07     17.4    5150      104.0   \n",
       "\n",
       "     life_expec  total_fer  gdpp  ClusterID  \n",
       "113        60.5       5.84  2330          4  "
      ]
     },
     "execution_count": 287,
     "metadata": {},
     "output_type": "execute_result"
    }
   ],
   "source": [
    "df_km[df_km.ClusterID == 4]"
   ]
  },
  {
   "cell_type": "code",
   "execution_count": 288,
   "metadata": {},
   "outputs": [
    {
     "data": {
      "text/html": [
       "<div>\n",
       "<style scoped>\n",
       "    .dataframe tbody tr th:only-of-type {\n",
       "        vertical-align: middle;\n",
       "    }\n",
       "\n",
       "    .dataframe tbody tr th {\n",
       "        vertical-align: top;\n",
       "    }\n",
       "\n",
       "    .dataframe thead th {\n",
       "        text-align: right;\n",
       "    }\n",
       "</style>\n",
       "<table border=\"1\" class=\"dataframe\">\n",
       "  <thead>\n",
       "    <tr style=\"text-align: right;\">\n",
       "      <th></th>\n",
       "      <th>country</th>\n",
       "      <th>child_mort</th>\n",
       "      <th>exports</th>\n",
       "      <th>health</th>\n",
       "      <th>imports</th>\n",
       "      <th>income</th>\n",
       "      <th>inflation</th>\n",
       "      <th>life_expec</th>\n",
       "      <th>total_fer</th>\n",
       "      <th>gdpp</th>\n",
       "      <th>ClusterID</th>\n",
       "    </tr>\n",
       "  </thead>\n",
       "  <tbody>\n",
       "    <tr>\n",
       "      <th>0</th>\n",
       "      <td>Afghanistan</td>\n",
       "      <td>90.2</td>\n",
       "      <td>10.00</td>\n",
       "      <td>7.58</td>\n",
       "      <td>44.9</td>\n",
       "      <td>1610</td>\n",
       "      <td>9.440</td>\n",
       "      <td>56.2</td>\n",
       "      <td>5.82</td>\n",
       "      <td>553</td>\n",
       "      <td>1</td>\n",
       "    </tr>\n",
       "    <tr>\n",
       "      <th>3</th>\n",
       "      <td>Angola</td>\n",
       "      <td>119.0</td>\n",
       "      <td>62.30</td>\n",
       "      <td>2.85</td>\n",
       "      <td>42.9</td>\n",
       "      <td>5900</td>\n",
       "      <td>22.400</td>\n",
       "      <td>60.1</td>\n",
       "      <td>6.16</td>\n",
       "      <td>3530</td>\n",
       "      <td>1</td>\n",
       "    </tr>\n",
       "    <tr>\n",
       "      <th>17</th>\n",
       "      <td>Benin</td>\n",
       "      <td>111.0</td>\n",
       "      <td>23.80</td>\n",
       "      <td>4.10</td>\n",
       "      <td>37.2</td>\n",
       "      <td>1820</td>\n",
       "      <td>0.885</td>\n",
       "      <td>61.8</td>\n",
       "      <td>5.36</td>\n",
       "      <td>758</td>\n",
       "      <td>1</td>\n",
       "    </tr>\n",
       "    <tr>\n",
       "      <th>21</th>\n",
       "      <td>Botswana</td>\n",
       "      <td>52.5</td>\n",
       "      <td>43.60</td>\n",
       "      <td>8.30</td>\n",
       "      <td>51.3</td>\n",
       "      <td>13300</td>\n",
       "      <td>8.920</td>\n",
       "      <td>57.1</td>\n",
       "      <td>2.88</td>\n",
       "      <td>6350</td>\n",
       "      <td>1</td>\n",
       "    </tr>\n",
       "    <tr>\n",
       "      <th>25</th>\n",
       "      <td>Burkina Faso</td>\n",
       "      <td>116.0</td>\n",
       "      <td>19.20</td>\n",
       "      <td>6.74</td>\n",
       "      <td>29.6</td>\n",
       "      <td>1430</td>\n",
       "      <td>6.810</td>\n",
       "      <td>57.9</td>\n",
       "      <td>5.87</td>\n",
       "      <td>575</td>\n",
       "      <td>1</td>\n",
       "    </tr>\n",
       "    <tr>\n",
       "      <th>26</th>\n",
       "      <td>Burundi</td>\n",
       "      <td>93.6</td>\n",
       "      <td>8.92</td>\n",
       "      <td>11.60</td>\n",
       "      <td>39.2</td>\n",
       "      <td>764</td>\n",
       "      <td>12.300</td>\n",
       "      <td>57.7</td>\n",
       "      <td>6.26</td>\n",
       "      <td>231</td>\n",
       "      <td>1</td>\n",
       "    </tr>\n",
       "    <tr>\n",
       "      <th>28</th>\n",
       "      <td>Cameroon</td>\n",
       "      <td>108.0</td>\n",
       "      <td>22.20</td>\n",
       "      <td>5.13</td>\n",
       "      <td>27.0</td>\n",
       "      <td>2660</td>\n",
       "      <td>1.910</td>\n",
       "      <td>57.3</td>\n",
       "      <td>5.11</td>\n",
       "      <td>1310</td>\n",
       "      <td>1</td>\n",
       "    </tr>\n",
       "    <tr>\n",
       "      <th>31</th>\n",
       "      <td>Central African Republic</td>\n",
       "      <td>149.0</td>\n",
       "      <td>11.80</td>\n",
       "      <td>3.98</td>\n",
       "      <td>26.5</td>\n",
       "      <td>888</td>\n",
       "      <td>2.010</td>\n",
       "      <td>47.5</td>\n",
       "      <td>5.21</td>\n",
       "      <td>446</td>\n",
       "      <td>1</td>\n",
       "    </tr>\n",
       "    <tr>\n",
       "      <th>32</th>\n",
       "      <td>Chad</td>\n",
       "      <td>150.0</td>\n",
       "      <td>36.80</td>\n",
       "      <td>4.53</td>\n",
       "      <td>43.5</td>\n",
       "      <td>1930</td>\n",
       "      <td>6.390</td>\n",
       "      <td>56.5</td>\n",
       "      <td>6.59</td>\n",
       "      <td>897</td>\n",
       "      <td>1</td>\n",
       "    </tr>\n",
       "    <tr>\n",
       "      <th>36</th>\n",
       "      <td>Comoros</td>\n",
       "      <td>88.2</td>\n",
       "      <td>16.50</td>\n",
       "      <td>4.51</td>\n",
       "      <td>51.7</td>\n",
       "      <td>1410</td>\n",
       "      <td>3.870</td>\n",
       "      <td>65.9</td>\n",
       "      <td>4.75</td>\n",
       "      <td>769</td>\n",
       "      <td>1</td>\n",
       "    </tr>\n",
       "    <tr>\n",
       "      <th>37</th>\n",
       "      <td>Congo, Dem. Rep.</td>\n",
       "      <td>116.0</td>\n",
       "      <td>41.10</td>\n",
       "      <td>7.91</td>\n",
       "      <td>49.6</td>\n",
       "      <td>609</td>\n",
       "      <td>20.800</td>\n",
       "      <td>57.5</td>\n",
       "      <td>6.54</td>\n",
       "      <td>334</td>\n",
       "      <td>1</td>\n",
       "    </tr>\n",
       "    <tr>\n",
       "      <th>38</th>\n",
       "      <td>Congo, Rep.</td>\n",
       "      <td>63.9</td>\n",
       "      <td>85.10</td>\n",
       "      <td>2.46</td>\n",
       "      <td>54.7</td>\n",
       "      <td>5190</td>\n",
       "      <td>20.700</td>\n",
       "      <td>60.4</td>\n",
       "      <td>4.95</td>\n",
       "      <td>2740</td>\n",
       "      <td>1</td>\n",
       "    </tr>\n",
       "    <tr>\n",
       "      <th>40</th>\n",
       "      <td>Cote d'Ivoire</td>\n",
       "      <td>111.0</td>\n",
       "      <td>50.60</td>\n",
       "      <td>5.30</td>\n",
       "      <td>43.3</td>\n",
       "      <td>2690</td>\n",
       "      <td>5.390</td>\n",
       "      <td>56.3</td>\n",
       "      <td>5.27</td>\n",
       "      <td>1220</td>\n",
       "      <td>1</td>\n",
       "    </tr>\n",
       "    <tr>\n",
       "      <th>49</th>\n",
       "      <td>Equatorial Guinea</td>\n",
       "      <td>111.0</td>\n",
       "      <td>85.80</td>\n",
       "      <td>4.48</td>\n",
       "      <td>58.9</td>\n",
       "      <td>33700</td>\n",
       "      <td>24.900</td>\n",
       "      <td>60.9</td>\n",
       "      <td>5.21</td>\n",
       "      <td>17100</td>\n",
       "      <td>1</td>\n",
       "    </tr>\n",
       "    <tr>\n",
       "      <th>50</th>\n",
       "      <td>Eritrea</td>\n",
       "      <td>55.2</td>\n",
       "      <td>4.79</td>\n",
       "      <td>2.66</td>\n",
       "      <td>23.3</td>\n",
       "      <td>1420</td>\n",
       "      <td>11.600</td>\n",
       "      <td>61.7</td>\n",
       "      <td>4.61</td>\n",
       "      <td>482</td>\n",
       "      <td>1</td>\n",
       "    </tr>\n",
       "    <tr>\n",
       "      <th>55</th>\n",
       "      <td>Gabon</td>\n",
       "      <td>63.7</td>\n",
       "      <td>57.70</td>\n",
       "      <td>3.50</td>\n",
       "      <td>18.9</td>\n",
       "      <td>15400</td>\n",
       "      <td>16.600</td>\n",
       "      <td>62.9</td>\n",
       "      <td>4.08</td>\n",
       "      <td>8750</td>\n",
       "      <td>1</td>\n",
       "    </tr>\n",
       "    <tr>\n",
       "      <th>56</th>\n",
       "      <td>Gambia</td>\n",
       "      <td>80.3</td>\n",
       "      <td>23.80</td>\n",
       "      <td>5.69</td>\n",
       "      <td>42.7</td>\n",
       "      <td>1660</td>\n",
       "      <td>4.300</td>\n",
       "      <td>65.5</td>\n",
       "      <td>5.71</td>\n",
       "      <td>562</td>\n",
       "      <td>1</td>\n",
       "    </tr>\n",
       "    <tr>\n",
       "      <th>59</th>\n",
       "      <td>Ghana</td>\n",
       "      <td>74.7</td>\n",
       "      <td>29.50</td>\n",
       "      <td>5.22</td>\n",
       "      <td>45.9</td>\n",
       "      <td>3060</td>\n",
       "      <td>16.600</td>\n",
       "      <td>62.2</td>\n",
       "      <td>4.27</td>\n",
       "      <td>1310</td>\n",
       "      <td>1</td>\n",
       "    </tr>\n",
       "    <tr>\n",
       "      <th>63</th>\n",
       "      <td>Guinea</td>\n",
       "      <td>109.0</td>\n",
       "      <td>30.30</td>\n",
       "      <td>4.93</td>\n",
       "      <td>43.2</td>\n",
       "      <td>1190</td>\n",
       "      <td>16.100</td>\n",
       "      <td>58.0</td>\n",
       "      <td>5.34</td>\n",
       "      <td>648</td>\n",
       "      <td>1</td>\n",
       "    </tr>\n",
       "    <tr>\n",
       "      <th>64</th>\n",
       "      <td>Guinea-Bissau</td>\n",
       "      <td>114.0</td>\n",
       "      <td>14.90</td>\n",
       "      <td>8.50</td>\n",
       "      <td>35.2</td>\n",
       "      <td>1390</td>\n",
       "      <td>2.970</td>\n",
       "      <td>55.6</td>\n",
       "      <td>5.05</td>\n",
       "      <td>547</td>\n",
       "      <td>1</td>\n",
       "    </tr>\n",
       "    <tr>\n",
       "      <th>66</th>\n",
       "      <td>Haiti</td>\n",
       "      <td>208.0</td>\n",
       "      <td>15.30</td>\n",
       "      <td>6.91</td>\n",
       "      <td>64.7</td>\n",
       "      <td>1500</td>\n",
       "      <td>5.450</td>\n",
       "      <td>32.1</td>\n",
       "      <td>3.33</td>\n",
       "      <td>662</td>\n",
       "      <td>1</td>\n",
       "    </tr>\n",
       "    <tr>\n",
       "      <th>72</th>\n",
       "      <td>Iraq</td>\n",
       "      <td>36.9</td>\n",
       "      <td>39.40</td>\n",
       "      <td>8.41</td>\n",
       "      <td>34.1</td>\n",
       "      <td>12700</td>\n",
       "      <td>16.600</td>\n",
       "      <td>67.2</td>\n",
       "      <td>4.56</td>\n",
       "      <td>4500</td>\n",
       "      <td>1</td>\n",
       "    </tr>\n",
       "    <tr>\n",
       "      <th>80</th>\n",
       "      <td>Kenya</td>\n",
       "      <td>62.2</td>\n",
       "      <td>20.70</td>\n",
       "      <td>4.75</td>\n",
       "      <td>33.6</td>\n",
       "      <td>2480</td>\n",
       "      <td>2.090</td>\n",
       "      <td>62.8</td>\n",
       "      <td>4.37</td>\n",
       "      <td>967</td>\n",
       "      <td>1</td>\n",
       "    </tr>\n",
       "    <tr>\n",
       "      <th>81</th>\n",
       "      <td>Kiribati</td>\n",
       "      <td>62.7</td>\n",
       "      <td>13.30</td>\n",
       "      <td>11.30</td>\n",
       "      <td>79.9</td>\n",
       "      <td>1730</td>\n",
       "      <td>1.520</td>\n",
       "      <td>60.7</td>\n",
       "      <td>3.84</td>\n",
       "      <td>1490</td>\n",
       "      <td>1</td>\n",
       "    </tr>\n",
       "    <tr>\n",
       "      <th>84</th>\n",
       "      <td>Lao</td>\n",
       "      <td>78.9</td>\n",
       "      <td>35.40</td>\n",
       "      <td>4.47</td>\n",
       "      <td>49.3</td>\n",
       "      <td>3980</td>\n",
       "      <td>9.200</td>\n",
       "      <td>63.8</td>\n",
       "      <td>3.15</td>\n",
       "      <td>1140</td>\n",
       "      <td>1</td>\n",
       "    </tr>\n",
       "    <tr>\n",
       "      <th>87</th>\n",
       "      <td>Lesotho</td>\n",
       "      <td>99.7</td>\n",
       "      <td>39.40</td>\n",
       "      <td>11.10</td>\n",
       "      <td>101.0</td>\n",
       "      <td>2380</td>\n",
       "      <td>4.150</td>\n",
       "      <td>46.5</td>\n",
       "      <td>3.30</td>\n",
       "      <td>1170</td>\n",
       "      <td>1</td>\n",
       "    </tr>\n",
       "    <tr>\n",
       "      <th>88</th>\n",
       "      <td>Liberia</td>\n",
       "      <td>89.3</td>\n",
       "      <td>19.10</td>\n",
       "      <td>11.80</td>\n",
       "      <td>92.6</td>\n",
       "      <td>700</td>\n",
       "      <td>5.470</td>\n",
       "      <td>60.8</td>\n",
       "      <td>5.02</td>\n",
       "      <td>327</td>\n",
       "      <td>1</td>\n",
       "    </tr>\n",
       "    <tr>\n",
       "      <th>93</th>\n",
       "      <td>Madagascar</td>\n",
       "      <td>62.2</td>\n",
       "      <td>25.00</td>\n",
       "      <td>3.77</td>\n",
       "      <td>43.0</td>\n",
       "      <td>1390</td>\n",
       "      <td>8.790</td>\n",
       "      <td>60.8</td>\n",
       "      <td>4.60</td>\n",
       "      <td>413</td>\n",
       "      <td>1</td>\n",
       "    </tr>\n",
       "    <tr>\n",
       "      <th>94</th>\n",
       "      <td>Malawi</td>\n",
       "      <td>90.5</td>\n",
       "      <td>22.80</td>\n",
       "      <td>6.59</td>\n",
       "      <td>34.9</td>\n",
       "      <td>1030</td>\n",
       "      <td>12.100</td>\n",
       "      <td>53.1</td>\n",
       "      <td>5.31</td>\n",
       "      <td>459</td>\n",
       "      <td>1</td>\n",
       "    </tr>\n",
       "    <tr>\n",
       "      <th>97</th>\n",
       "      <td>Mali</td>\n",
       "      <td>137.0</td>\n",
       "      <td>22.80</td>\n",
       "      <td>4.98</td>\n",
       "      <td>35.1</td>\n",
       "      <td>1870</td>\n",
       "      <td>4.370</td>\n",
       "      <td>59.5</td>\n",
       "      <td>6.55</td>\n",
       "      <td>708</td>\n",
       "      <td>1</td>\n",
       "    </tr>\n",
       "    <tr>\n",
       "      <th>99</th>\n",
       "      <td>Mauritania</td>\n",
       "      <td>97.4</td>\n",
       "      <td>50.70</td>\n",
       "      <td>4.41</td>\n",
       "      <td>61.2</td>\n",
       "      <td>3320</td>\n",
       "      <td>18.900</td>\n",
       "      <td>68.2</td>\n",
       "      <td>4.98</td>\n",
       "      <td>1200</td>\n",
       "      <td>1</td>\n",
       "    </tr>\n",
       "    <tr>\n",
       "      <th>106</th>\n",
       "      <td>Mozambique</td>\n",
       "      <td>101.0</td>\n",
       "      <td>31.50</td>\n",
       "      <td>5.21</td>\n",
       "      <td>46.2</td>\n",
       "      <td>918</td>\n",
       "      <td>7.640</td>\n",
       "      <td>54.5</td>\n",
       "      <td>5.56</td>\n",
       "      <td>419</td>\n",
       "      <td>1</td>\n",
       "    </tr>\n",
       "    <tr>\n",
       "      <th>108</th>\n",
       "      <td>Namibia</td>\n",
       "      <td>56.0</td>\n",
       "      <td>47.80</td>\n",
       "      <td>6.78</td>\n",
       "      <td>60.7</td>\n",
       "      <td>8460</td>\n",
       "      <td>3.560</td>\n",
       "      <td>58.6</td>\n",
       "      <td>3.60</td>\n",
       "      <td>5190</td>\n",
       "      <td>1</td>\n",
       "    </tr>\n",
       "    <tr>\n",
       "      <th>112</th>\n",
       "      <td>Niger</td>\n",
       "      <td>123.0</td>\n",
       "      <td>22.20</td>\n",
       "      <td>5.16</td>\n",
       "      <td>49.1</td>\n",
       "      <td>814</td>\n",
       "      <td>2.550</td>\n",
       "      <td>58.8</td>\n",
       "      <td>7.49</td>\n",
       "      <td>348</td>\n",
       "      <td>1</td>\n",
       "    </tr>\n",
       "    <tr>\n",
       "      <th>116</th>\n",
       "      <td>Pakistan</td>\n",
       "      <td>92.1</td>\n",
       "      <td>13.50</td>\n",
       "      <td>2.20</td>\n",
       "      <td>19.4</td>\n",
       "      <td>4280</td>\n",
       "      <td>10.900</td>\n",
       "      <td>65.3</td>\n",
       "      <td>3.85</td>\n",
       "      <td>1040</td>\n",
       "      <td>1</td>\n",
       "    </tr>\n",
       "    <tr>\n",
       "      <th>126</th>\n",
       "      <td>Rwanda</td>\n",
       "      <td>63.6</td>\n",
       "      <td>12.00</td>\n",
       "      <td>10.50</td>\n",
       "      <td>30.0</td>\n",
       "      <td>1350</td>\n",
       "      <td>2.610</td>\n",
       "      <td>64.6</td>\n",
       "      <td>4.51</td>\n",
       "      <td>563</td>\n",
       "      <td>1</td>\n",
       "    </tr>\n",
       "    <tr>\n",
       "      <th>129</th>\n",
       "      <td>Senegal</td>\n",
       "      <td>66.8</td>\n",
       "      <td>24.90</td>\n",
       "      <td>5.66</td>\n",
       "      <td>40.3</td>\n",
       "      <td>2180</td>\n",
       "      <td>1.850</td>\n",
       "      <td>64.0</td>\n",
       "      <td>5.06</td>\n",
       "      <td>1000</td>\n",
       "      <td>1</td>\n",
       "    </tr>\n",
       "    <tr>\n",
       "      <th>132</th>\n",
       "      <td>Sierra Leone</td>\n",
       "      <td>160.0</td>\n",
       "      <td>16.80</td>\n",
       "      <td>13.10</td>\n",
       "      <td>34.5</td>\n",
       "      <td>1220</td>\n",
       "      <td>17.200</td>\n",
       "      <td>55.0</td>\n",
       "      <td>5.20</td>\n",
       "      <td>399</td>\n",
       "      <td>1</td>\n",
       "    </tr>\n",
       "    <tr>\n",
       "      <th>137</th>\n",
       "      <td>South Africa</td>\n",
       "      <td>53.7</td>\n",
       "      <td>28.60</td>\n",
       "      <td>8.94</td>\n",
       "      <td>27.4</td>\n",
       "      <td>12000</td>\n",
       "      <td>6.350</td>\n",
       "      <td>54.3</td>\n",
       "      <td>2.59</td>\n",
       "      <td>7280</td>\n",
       "      <td>1</td>\n",
       "    </tr>\n",
       "    <tr>\n",
       "      <th>142</th>\n",
       "      <td>Sudan</td>\n",
       "      <td>76.7</td>\n",
       "      <td>19.70</td>\n",
       "      <td>6.32</td>\n",
       "      <td>17.2</td>\n",
       "      <td>3370</td>\n",
       "      <td>19.600</td>\n",
       "      <td>66.3</td>\n",
       "      <td>4.88</td>\n",
       "      <td>1480</td>\n",
       "      <td>1</td>\n",
       "    </tr>\n",
       "    <tr>\n",
       "      <th>147</th>\n",
       "      <td>Tanzania</td>\n",
       "      <td>71.9</td>\n",
       "      <td>18.70</td>\n",
       "      <td>6.01</td>\n",
       "      <td>29.1</td>\n",
       "      <td>2090</td>\n",
       "      <td>9.250</td>\n",
       "      <td>59.3</td>\n",
       "      <td>5.43</td>\n",
       "      <td>702</td>\n",
       "      <td>1</td>\n",
       "    </tr>\n",
       "    <tr>\n",
       "      <th>149</th>\n",
       "      <td>Timor-Leste</td>\n",
       "      <td>62.6</td>\n",
       "      <td>2.20</td>\n",
       "      <td>9.12</td>\n",
       "      <td>27.8</td>\n",
       "      <td>1850</td>\n",
       "      <td>26.500</td>\n",
       "      <td>71.1</td>\n",
       "      <td>6.23</td>\n",
       "      <td>3600</td>\n",
       "      <td>1</td>\n",
       "    </tr>\n",
       "    <tr>\n",
       "      <th>150</th>\n",
       "      <td>Togo</td>\n",
       "      <td>90.3</td>\n",
       "      <td>40.20</td>\n",
       "      <td>7.65</td>\n",
       "      <td>57.3</td>\n",
       "      <td>1210</td>\n",
       "      <td>1.180</td>\n",
       "      <td>58.7</td>\n",
       "      <td>4.87</td>\n",
       "      <td>488</td>\n",
       "      <td>1</td>\n",
       "    </tr>\n",
       "    <tr>\n",
       "      <th>155</th>\n",
       "      <td>Uganda</td>\n",
       "      <td>81.0</td>\n",
       "      <td>17.10</td>\n",
       "      <td>9.01</td>\n",
       "      <td>28.6</td>\n",
       "      <td>1540</td>\n",
       "      <td>10.600</td>\n",
       "      <td>56.8</td>\n",
       "      <td>6.15</td>\n",
       "      <td>595</td>\n",
       "      <td>1</td>\n",
       "    </tr>\n",
       "    <tr>\n",
       "      <th>165</th>\n",
       "      <td>Yemen</td>\n",
       "      <td>56.3</td>\n",
       "      <td>30.00</td>\n",
       "      <td>5.18</td>\n",
       "      <td>34.4</td>\n",
       "      <td>4480</td>\n",
       "      <td>23.600</td>\n",
       "      <td>67.5</td>\n",
       "      <td>4.67</td>\n",
       "      <td>1310</td>\n",
       "      <td>1</td>\n",
       "    </tr>\n",
       "    <tr>\n",
       "      <th>166</th>\n",
       "      <td>Zambia</td>\n",
       "      <td>83.1</td>\n",
       "      <td>37.00</td>\n",
       "      <td>5.89</td>\n",
       "      <td>30.9</td>\n",
       "      <td>3280</td>\n",
       "      <td>14.000</td>\n",
       "      <td>52.0</td>\n",
       "      <td>5.40</td>\n",
       "      <td>1460</td>\n",
       "      <td>1</td>\n",
       "    </tr>\n",
       "  </tbody>\n",
       "</table>\n",
       "</div>"
      ],
      "text/plain": [
       "                      country  child_mort  exports  health  imports  income  \\\n",
       "0                 Afghanistan        90.2    10.00    7.58     44.9    1610   \n",
       "3                      Angola       119.0    62.30    2.85     42.9    5900   \n",
       "17                      Benin       111.0    23.80    4.10     37.2    1820   \n",
       "21                   Botswana        52.5    43.60    8.30     51.3   13300   \n",
       "25               Burkina Faso       116.0    19.20    6.74     29.6    1430   \n",
       "26                    Burundi        93.6     8.92   11.60     39.2     764   \n",
       "28                   Cameroon       108.0    22.20    5.13     27.0    2660   \n",
       "31   Central African Republic       149.0    11.80    3.98     26.5     888   \n",
       "32                       Chad       150.0    36.80    4.53     43.5    1930   \n",
       "36                    Comoros        88.2    16.50    4.51     51.7    1410   \n",
       "37           Congo, Dem. Rep.       116.0    41.10    7.91     49.6     609   \n",
       "38                Congo, Rep.        63.9    85.10    2.46     54.7    5190   \n",
       "40              Cote d'Ivoire       111.0    50.60    5.30     43.3    2690   \n",
       "49          Equatorial Guinea       111.0    85.80    4.48     58.9   33700   \n",
       "50                    Eritrea        55.2     4.79    2.66     23.3    1420   \n",
       "55                      Gabon        63.7    57.70    3.50     18.9   15400   \n",
       "56                     Gambia        80.3    23.80    5.69     42.7    1660   \n",
       "59                      Ghana        74.7    29.50    5.22     45.9    3060   \n",
       "63                     Guinea       109.0    30.30    4.93     43.2    1190   \n",
       "64              Guinea-Bissau       114.0    14.90    8.50     35.2    1390   \n",
       "66                      Haiti       208.0    15.30    6.91     64.7    1500   \n",
       "72                       Iraq        36.9    39.40    8.41     34.1   12700   \n",
       "80                      Kenya        62.2    20.70    4.75     33.6    2480   \n",
       "81                   Kiribati        62.7    13.30   11.30     79.9    1730   \n",
       "84                        Lao        78.9    35.40    4.47     49.3    3980   \n",
       "87                    Lesotho        99.7    39.40   11.10    101.0    2380   \n",
       "88                    Liberia        89.3    19.10   11.80     92.6     700   \n",
       "93                 Madagascar        62.2    25.00    3.77     43.0    1390   \n",
       "94                     Malawi        90.5    22.80    6.59     34.9    1030   \n",
       "97                       Mali       137.0    22.80    4.98     35.1    1870   \n",
       "99                 Mauritania        97.4    50.70    4.41     61.2    3320   \n",
       "106                Mozambique       101.0    31.50    5.21     46.2     918   \n",
       "108                   Namibia        56.0    47.80    6.78     60.7    8460   \n",
       "112                     Niger       123.0    22.20    5.16     49.1     814   \n",
       "116                  Pakistan        92.1    13.50    2.20     19.4    4280   \n",
       "126                    Rwanda        63.6    12.00   10.50     30.0    1350   \n",
       "129                   Senegal        66.8    24.90    5.66     40.3    2180   \n",
       "132              Sierra Leone       160.0    16.80   13.10     34.5    1220   \n",
       "137              South Africa        53.7    28.60    8.94     27.4   12000   \n",
       "142                     Sudan        76.7    19.70    6.32     17.2    3370   \n",
       "147                  Tanzania        71.9    18.70    6.01     29.1    2090   \n",
       "149               Timor-Leste        62.6     2.20    9.12     27.8    1850   \n",
       "150                      Togo        90.3    40.20    7.65     57.3    1210   \n",
       "155                    Uganda        81.0    17.10    9.01     28.6    1540   \n",
       "165                     Yemen        56.3    30.00    5.18     34.4    4480   \n",
       "166                    Zambia        83.1    37.00    5.89     30.9    3280   \n",
       "\n",
       "     inflation  life_expec  total_fer   gdpp  ClusterID  \n",
       "0        9.440        56.2       5.82    553          1  \n",
       "3       22.400        60.1       6.16   3530          1  \n",
       "17       0.885        61.8       5.36    758          1  \n",
       "21       8.920        57.1       2.88   6350          1  \n",
       "25       6.810        57.9       5.87    575          1  \n",
       "26      12.300        57.7       6.26    231          1  \n",
       "28       1.910        57.3       5.11   1310          1  \n",
       "31       2.010        47.5       5.21    446          1  \n",
       "32       6.390        56.5       6.59    897          1  \n",
       "36       3.870        65.9       4.75    769          1  \n",
       "37      20.800        57.5       6.54    334          1  \n",
       "38      20.700        60.4       4.95   2740          1  \n",
       "40       5.390        56.3       5.27   1220          1  \n",
       "49      24.900        60.9       5.21  17100          1  \n",
       "50      11.600        61.7       4.61    482          1  \n",
       "55      16.600        62.9       4.08   8750          1  \n",
       "56       4.300        65.5       5.71    562          1  \n",
       "59      16.600        62.2       4.27   1310          1  \n",
       "63      16.100        58.0       5.34    648          1  \n",
       "64       2.970        55.6       5.05    547          1  \n",
       "66       5.450        32.1       3.33    662          1  \n",
       "72      16.600        67.2       4.56   4500          1  \n",
       "80       2.090        62.8       4.37    967          1  \n",
       "81       1.520        60.7       3.84   1490          1  \n",
       "84       9.200        63.8       3.15   1140          1  \n",
       "87       4.150        46.5       3.30   1170          1  \n",
       "88       5.470        60.8       5.02    327          1  \n",
       "93       8.790        60.8       4.60    413          1  \n",
       "94      12.100        53.1       5.31    459          1  \n",
       "97       4.370        59.5       6.55    708          1  \n",
       "99      18.900        68.2       4.98   1200          1  \n",
       "106      7.640        54.5       5.56    419          1  \n",
       "108      3.560        58.6       3.60   5190          1  \n",
       "112      2.550        58.8       7.49    348          1  \n",
       "116     10.900        65.3       3.85   1040          1  \n",
       "126      2.610        64.6       4.51    563          1  \n",
       "129      1.850        64.0       5.06   1000          1  \n",
       "132     17.200        55.0       5.20    399          1  \n",
       "137      6.350        54.3       2.59   7280          1  \n",
       "142     19.600        66.3       4.88   1480          1  \n",
       "147      9.250        59.3       5.43    702          1  \n",
       "149     26.500        71.1       6.23   3600          1  \n",
       "150      1.180        58.7       4.87    488          1  \n",
       "155     10.600        56.8       6.15    595          1  \n",
       "165     23.600        67.5       4.67   1310          1  \n",
       "166     14.000        52.0       5.40   1460          1  "
      ]
     },
     "execution_count": 288,
     "metadata": {},
     "output_type": "execute_result"
    }
   ],
   "source": [
    "df_km[df_km.ClusterID == 1]"
   ]
  },
  {
   "cell_type": "markdown",
   "metadata": {},
   "source": [
    "### combining clusters 1 and 4 to create resultant countries that needed help"
   ]
  },
  {
   "cell_type": "code",
   "execution_count": 289,
   "metadata": {},
   "outputs": [],
   "source": [
    "kcluster1 = df_km[df_km.ClusterID==1].country\n",
    "kcluster4 = df_km[df_km.ClusterID==4].country\n",
    "Kmeans_result= pd.concat([kcluster1,kcluster4], axis=0)"
   ]
  },
  {
   "cell_type": "code",
   "execution_count": 290,
   "metadata": {},
   "outputs": [
    {
     "data": {
      "text/plain": [
       "47"
      ]
     },
     "execution_count": 290,
     "metadata": {},
     "output_type": "execute_result"
    }
   ],
   "source": [
    "Kmeans_result.count()"
   ]
  },
  {
   "cell_type": "markdown",
   "metadata": {},
   "source": [
    "## Heirarchical clustering"
   ]
  },
  {
   "cell_type": "markdown",
   "metadata": {},
   "source": [
    "##### we used two methods of linkages complete and single"
   ]
  },
  {
   "cell_type": "code",
   "execution_count": 291,
   "metadata": {},
   "outputs": [
    {
     "data": {
      "image/png": "[encoded data removed]",
      "text/plain": [
       "<Figure size 432x288 with 1 Axes>"
      ]
     },
     "metadata": {},
     "output_type": "display_data"
    }
   ],
   "source": [
    "# heirarchical clustering\n",
    "mergings = linkage(df_kmeans, method = \"single\", metric='euclidean')\n",
    "dendrogram(mergings)\n",
    "plt.show()"
   ]
  },
  {
   "cell_type": "code",
   "execution_count": 292,
   "metadata": {},
   "outputs": [
    {
     "data": {
      "image/png": "[encoded data removed]",
      "text/plain": [
       "<Figure size 432x288 with 1 Axes>"
      ]
     },
     "metadata": {},
     "output_type": "display_data"
    }
   ],
   "source": [
    "mergings = linkage(df_kmeans, method = \"complete\", metric='euclidean')\n",
    "dendrogram(mergings)\n",
    "plt.show()"
   ]
  },
  {
   "cell_type": "code",
   "execution_count": 293,
   "metadata": {},
   "outputs": [],
   "source": [
    "clusterCut = pd.Series(cut_tree(mergings, n_clusters = 5).reshape(-1,))\n",
    "hier_hc = pd.concat([country, clusterCut], axis=1)\n",
    "hier_hc.columns = ['country', 'child_mort','exports', 'health','imports','income','inflation', 'life_expec','total_fer','gdpp','ClusterID']"
   ]
  },
  {
   "cell_type": "code",
   "execution_count": 294,
   "metadata": {},
   "outputs": [
    {
     "data": {
      "text/plain": [
       "Index(['country', 'child_mort', 'exports', 'health', 'imports', 'income',\n",
       "       'inflation', 'life_expec', 'total_fer', 'gdpp', 'ClusterID'],\n",
       "      dtype='object')"
      ]
     },
     "execution_count": 294,
     "metadata": {},
     "output_type": "execute_result"
    }
   ],
   "source": [
    "hier_hc.columns"
   ]
  },
  {
   "cell_type": "markdown",
   "metadata": {},
   "source": [
    "#### creating data frames for varaible means"
   ]
  },
  {
   "cell_type": "code",
   "execution_count": 295,
   "metadata": {},
   "outputs": [],
   "source": [
    "km_clusters_child_mort = \tpd.DataFrame(hier_hc.groupby([\"ClusterID\"]).child_mort.mean())\n",
    "km_clusters_exports = \tpd.DataFrame(hier_hc.groupby([\"ClusterID\"]).exports.mean())\n",
    "km_clusters_health = \tpd.DataFrame(hier_hc.groupby([\"ClusterID\"]).health.mean())\n",
    "km_clusters_income = \tpd.DataFrame(hier_hc.groupby([\"ClusterID\"]).income.mean())\n",
    "km_clusters_imports = \tpd.DataFrame(hier_hc.groupby([\"ClusterID\"]).imports.mean())\n",
    "km_clusters_inflation = \tpd.DataFrame(hier_hc.groupby([\"ClusterID\"]).inflation.mean())\n",
    "km_clusters_life_expec = \tpd.DataFrame(hier_hc.groupby([\"ClusterID\"]).life_expec.mean())\n",
    "km_clusters_total_fer = \tpd.DataFrame(hier_hc.groupby([\"ClusterID\"]).total_fer.mean())\n",
    "km_clusters_gdpp = \tpd.DataFrame(hier_hc.groupby([\"ClusterID\"]).gdpp.mean())"
   ]
  },
  {
   "cell_type": "code",
   "execution_count": 296,
   "metadata": {},
   "outputs": [
    {
     "data": {
      "text/html": [
       "<div>\n",
       "<style scoped>\n",
       "    .dataframe tbody tr th:only-of-type {\n",
       "        vertical-align: middle;\n",
       "    }\n",
       "\n",
       "    .dataframe tbody tr th {\n",
       "        vertical-align: top;\n",
       "    }\n",
       "\n",
       "    .dataframe thead th {\n",
       "        text-align: right;\n",
       "    }\n",
       "</style>\n",
       "<table border=\"1\" class=\"dataframe\">\n",
       "  <thead>\n",
       "    <tr style=\"text-align: right;\">\n",
       "      <th></th>\n",
       "      <th>ClusterID</th>\n",
       "      <th>child_mort_mean</th>\n",
       "      <th>exports_mean</th>\n",
       "      <th>health_mean</th>\n",
       "      <th>imports_mean</th>\n",
       "      <th>income_mean</th>\n",
       "      <th>inflation_mean</th>\n",
       "      <th>life_expec_mean</th>\n",
       "      <th>total_fer_mean</th>\n",
       "      <th>gdpp_mean</th>\n",
       "    </tr>\n",
       "  </thead>\n",
       "  <tbody>\n",
       "    <tr>\n",
       "      <th>0</th>\n",
       "      <td>0</td>\n",
       "      <td>96.000000</td>\n",
       "      <td>30.537368</td>\n",
       "      <td>7.028684</td>\n",
       "      <td>47.913158</td>\n",
       "      <td>3508.763158</td>\n",
       "      <td>8.198553</td>\n",
       "      <td>57.884211</td>\n",
       "      <td>5.061579</td>\n",
       "      <td>1793.342105</td>\n",
       "    </tr>\n",
       "    <tr>\n",
       "      <th>1</th>\n",
       "      <td>1</td>\n",
       "      <td>25.538298</td>\n",
       "      <td>38.631691</td>\n",
       "      <td>6.183511</td>\n",
       "      <td>45.263467</td>\n",
       "      <td>11871.063830</td>\n",
       "      <td>7.979511</td>\n",
       "      <td>72.460638</td>\n",
       "      <td>2.455106</td>\n",
       "      <td>6878.053191</td>\n",
       "    </tr>\n",
       "    <tr>\n",
       "      <th>2</th>\n",
       "      <td>2</td>\n",
       "      <td>6.190000</td>\n",
       "      <td>47.543333</td>\n",
       "      <td>8.701000</td>\n",
       "      <td>38.660000</td>\n",
       "      <td>46543.333333</td>\n",
       "      <td>4.358433</td>\n",
       "      <td>79.790000</td>\n",
       "      <td>1.901333</td>\n",
       "      <td>42150.000000</td>\n",
       "    </tr>\n",
       "    <tr>\n",
       "      <th>3</th>\n",
       "      <td>3</td>\n",
       "      <td>6.700000</td>\n",
       "      <td>155.450000</td>\n",
       "      <td>5.945000</td>\n",
       "      <td>144.500000</td>\n",
       "      <td>53125.000000</td>\n",
       "      <td>0.798500</td>\n",
       "      <td>79.425000</td>\n",
       "      <td>1.577500</td>\n",
       "      <td>45875.000000</td>\n",
       "    </tr>\n",
       "    <tr>\n",
       "      <th>4</th>\n",
       "      <td>4</td>\n",
       "      <td>130.000000</td>\n",
       "      <td>25.300000</td>\n",
       "      <td>5.070000</td>\n",
       "      <td>17.400000</td>\n",
       "      <td>5150.000000</td>\n",
       "      <td>104.000000</td>\n",
       "      <td>60.500000</td>\n",
       "      <td>5.840000</td>\n",
       "      <td>2330.000000</td>\n",
       "    </tr>\n",
       "  </tbody>\n",
       "</table>\n",
       "</div>"
      ],
      "text/plain": [
       "   ClusterID  child_mort_mean  exports_mean  health_mean  imports_mean  \\\n",
       "0          0        96.000000     30.537368     7.028684     47.913158   \n",
       "1          1        25.538298     38.631691     6.183511     45.263467   \n",
       "2          2         6.190000     47.543333     8.701000     38.660000   \n",
       "3          3         6.700000    155.450000     5.945000    144.500000   \n",
       "4          4       130.000000     25.300000     5.070000     17.400000   \n",
       "\n",
       "    income_mean  inflation_mean  life_expec_mean  total_fer_mean     gdpp_mean  \n",
       "0   3508.763158        8.198553        57.884211        5.061579   1793.342105  \n",
       "1  11871.063830        7.979511        72.460638        2.455106   6878.053191  \n",
       "2  46543.333333        4.358433        79.790000        1.901333  42150.000000  \n",
       "3  53125.000000        0.798500        79.425000        1.577500  45875.000000  \n",
       "4   5150.000000      104.000000        60.500000        5.840000   2330.000000  "
      ]
     },
     "execution_count": 296,
     "metadata": {},
     "output_type": "execute_result"
    }
   ],
   "source": [
    "df = pd.concat([pd.Series([0,1,2,3,4]), km_clusters_child_mort,km_clusters_exports,km_clusters_health,km_clusters_imports,km_clusters_income,km_clusters_inflation,km_clusters_life_expec,km_clusters_total_fer,km_clusters_gdpp], axis=1)\n",
    "df.columns = [\"ClusterID\", \"child_mort_mean\",\"exports_mean\",\"health_mean\",\"imports_mean\",\"income_mean\",\"inflation_mean\",\"life_expec_mean\",\"total_fer_mean\",\"gdpp_mean\"]\n",
    "df.head()"
   ]
  },
  {
   "cell_type": "markdown",
   "metadata": {},
   "source": [
    "### Plotting based on cluster id's for finding resultant clusters"
   ]
  },
  {
   "cell_type": "code",
   "execution_count": 297,
   "metadata": {},
   "outputs": [
    {
     "data": {
      "text/plain": [
       "<matplotlib.axes._subplots.AxesSubplot at 0xe71beb8>"
      ]
     },
     "execution_count": 297,
     "metadata": {},
     "output_type": "execute_result"
    },
    {
     "data": {
      "image/png": "[encoded data removed]",
      "text/plain": [
       "<Figure size 432x288 with 1 Axes>"
      ]
     },
     "metadata": {},
     "output_type": "display_data"
    }
   ],
   "source": [
    "#plotting barplot\n",
    "sns.barplot(x=df.ClusterID, y=df.child_mort_mean)"
   ]
  },
  {
   "cell_type": "code",
   "execution_count": 298,
   "metadata": {},
   "outputs": [
    {
     "data": {
      "text/plain": [
       "<matplotlib.axes._subplots.AxesSubplot at 0xd456128>"
      ]
     },
     "execution_count": 298,
     "metadata": {},
     "output_type": "execute_result"
    },
    {
     "data": {
      "image/png": "[encoded data removed]",
      "text/plain": [
       "<Figure size 432x288 with 1 Axes>"
      ]
     },
     "metadata": {},
     "output_type": "display_data"
    }
   ],
   "source": [
    "sns.barplot(x=df.ClusterID, y=df.gdpp_mean)"
   ]
  },
  {
   "cell_type": "code",
   "execution_count": 299,
   "metadata": {},
   "outputs": [
    {
     "data": {
      "text/plain": [
       "<matplotlib.axes._subplots.AxesSubplot at 0xc88ce80>"
      ]
     },
     "execution_count": 299,
     "metadata": {},
     "output_type": "execute_result"
    },
    {
     "data": {
      "image/png": "[encoded data removed]",
      "text/plain": [
       "<Figure size 432x288 with 1 Axes>"
      ]
     },
     "metadata": {},
     "output_type": "display_data"
    }
   ],
   "source": [
    "sns.barplot(x=df.ClusterID, y=df.life_expec_mean)"
   ]
  },
  {
   "cell_type": "code",
   "execution_count": 300,
   "metadata": {},
   "outputs": [
    {
     "data": {
      "text/plain": [
       "<matplotlib.axes._subplots.AxesSubplot at 0xd563ba8>"
      ]
     },
     "execution_count": 300,
     "metadata": {},
     "output_type": "execute_result"
    },
    {
     "data": {
      "image/png": "[encoded data removed]",
      "text/plain": [
       "<Figure size 432x288 with 1 Axes>"
      ]
     },
     "metadata": {},
     "output_type": "display_data"
    }
   ],
   "source": [
    "sns.barplot(x=df.ClusterID, y=df.income_mean)"
   ]
  },
  {
   "cell_type": "code",
   "execution_count": 301,
   "metadata": {
    "scrolled": true
   },
   "outputs": [
    {
     "data": {
      "text/plain": [
       "<matplotlib.axes._subplots.AxesSubplot at 0xd45f0f0>"
      ]
     },
     "execution_count": 301,
     "metadata": {},
     "output_type": "execute_result"
    },
    {
     "data": {
      "image/png": "[encoded data removed]",
      "text/plain": [
       "<Figure size 432x288 with 1 Axes>"
      ]
     },
     "metadata": {},
     "output_type": "display_data"
    }
   ],
   "source": [
    "sns.barplot(x=df.ClusterID, y=df.exports_mean)"
   ]
  },
  {
   "cell_type": "markdown",
   "metadata": {},
   "source": [
    "From above charts its clear that clusters 0 and 4 are found to be needed of dire help."
   ]
  },
  {
   "cell_type": "markdown",
   "metadata": {},
   "source": [
    "#### Combining clusters 0 & 4 for list of countries"
   ]
  },
  {
   "cell_type": "code",
   "execution_count": 302,
   "metadata": {},
   "outputs": [
    {
     "data": {
      "text/html": [
       "<div>\n",
       "<style scoped>\n",
       "    .dataframe tbody tr th:only-of-type {\n",
       "        vertical-align: middle;\n",
       "    }\n",
       "\n",
       "    .dataframe tbody tr th {\n",
       "        vertical-align: top;\n",
       "    }\n",
       "\n",
       "    .dataframe thead th {\n",
       "        text-align: right;\n",
       "    }\n",
       "</style>\n",
       "<table border=\"1\" class=\"dataframe\">\n",
       "  <thead>\n",
       "    <tr style=\"text-align: right;\">\n",
       "      <th></th>\n",
       "      <th>country</th>\n",
       "      <th>child_mort</th>\n",
       "      <th>exports</th>\n",
       "      <th>health</th>\n",
       "      <th>imports</th>\n",
       "      <th>income</th>\n",
       "      <th>inflation</th>\n",
       "      <th>life_expec</th>\n",
       "      <th>total_fer</th>\n",
       "      <th>gdpp</th>\n",
       "      <th>ClusterID</th>\n",
       "    </tr>\n",
       "  </thead>\n",
       "  <tbody>\n",
       "    <tr>\n",
       "      <th>113</th>\n",
       "      <td>Nigeria</td>\n",
       "      <td>130.0</td>\n",
       "      <td>25.3</td>\n",
       "      <td>5.07</td>\n",
       "      <td>17.4</td>\n",
       "      <td>5150</td>\n",
       "      <td>104.0</td>\n",
       "      <td>60.5</td>\n",
       "      <td>5.84</td>\n",
       "      <td>2330</td>\n",
       "      <td>4</td>\n",
       "    </tr>\n",
       "  </tbody>\n",
       "</table>\n",
       "</div>"
      ],
      "text/plain": [
       "     country  child_mort  exports  health  imports  income  inflation  \\\n",
       "113  Nigeria       130.0     25.3    5.07     17.4    5150      104.0   \n",
       "\n",
       "     life_expec  total_fer  gdpp  ClusterID  \n",
       "113        60.5       5.84  2330          4  "
      ]
     },
     "execution_count": 302,
     "metadata": {},
     "output_type": "execute_result"
    }
   ],
   "source": [
    "hier_hc[hier_hc.ClusterID == 4]"
   ]
  },
  {
   "cell_type": "code",
   "execution_count": 303,
   "metadata": {},
   "outputs": [],
   "source": [
    "hcluster0 = hier_hc[hier_hc.ClusterID==0].country\n",
    "hcluster4 = hier_hc[hier_hc.ClusterID==4].country\n",
    "hier_result= pd.concat([hcluster0,hcluster4], axis=0)"
   ]
  },
  {
   "cell_type": "markdown",
   "metadata": {},
   "source": [
    "## Combining both clustering results for finilazing country list:\n",
    "\n",
    "After combining checkking and removing duplicates if present any."
   ]
  },
  {
   "cell_type": "code",
   "execution_count": 304,
   "metadata": {},
   "outputs": [],
   "source": [
    "Result_countries = pd.concat([hier_result,Kmeans_result],axis=0,ignore_index =True)\n",
    "Result_countries.columns = [\"Country\"]"
   ]
  },
  {
   "cell_type": "code",
   "execution_count": 305,
   "metadata": {},
   "outputs": [
    {
     "data": {
      "text/plain": [
       "86"
      ]
     },
     "execution_count": 305,
     "metadata": {},
     "output_type": "execute_result"
    }
   ],
   "source": [
    "Result_countries.count()"
   ]
  },
  {
   "cell_type": "code",
   "execution_count": 306,
   "metadata": {},
   "outputs": [
    {
     "data": {
      "text/plain": [
       "39"
      ]
     },
     "execution_count": 306,
     "metadata": {},
     "output_type": "execute_result"
    }
   ],
   "source": [
    "hier_result.count()"
   ]
  },
  {
   "cell_type": "code",
   "execution_count": 307,
   "metadata": {},
   "outputs": [
    {
     "data": {
      "text/plain": [
       "47"
      ]
     },
     "execution_count": 307,
     "metadata": {},
     "output_type": "execute_result"
    }
   ],
   "source": [
    "Kmeans_result.count()"
   ]
  },
  {
   "cell_type": "markdown",
   "metadata": {},
   "source": [
    "#### Removing duplicates from data frame\n",
    "\n",
    "Removing duplicates and saving in new data frame"
   ]
  },
  {
   "cell_type": "code",
   "execution_count": 308,
   "metadata": {},
   "outputs": [],
   "source": [
    "Result_countries1 = Result_countries.drop_duplicates()"
   ]
  },
  {
   "cell_type": "markdown",
   "metadata": {},
   "source": [
    "#### Checking for duplicates"
   ]
  },
  {
   "cell_type": "code",
   "execution_count": 309,
   "metadata": {},
   "outputs": [
    {
     "data": {
      "text/plain": [
       "0"
      ]
     },
     "execution_count": 309,
     "metadata": {},
     "output_type": "execute_result"
    }
   ],
   "source": [
    "Result_countries1.duplicated().sum()"
   ]
  },
  {
   "cell_type": "markdown",
   "metadata": {},
   "source": [
    "#### final list of countries in below dataframe- Result_countries1"
   ]
  },
  {
   "cell_type": "code",
   "execution_count": 310,
   "metadata": {},
   "outputs": [
    {
     "data": {
      "text/plain": [
       "49"
      ]
     },
     "execution_count": 310,
     "metadata": {},
     "output_type": "execute_result"
    }
   ],
   "source": [
    "Result_countries1.count()"
   ]
  },
  {
   "cell_type": "code",
   "execution_count": 311,
   "metadata": {},
   "outputs": [],
   "source": [
    "Result_countries1 = Result_countries1.reset_index(drop=True)"
   ]
  },
  {
   "cell_type": "code",
   "execution_count": 312,
   "metadata": {},
   "outputs": [
    {
     "data": {
      "text/plain": [
       "0                  Afghanistan\n",
       "1                       Angola\n",
       "2                        Benin\n",
       "3                     Botswana\n",
       "4                 Burkina Faso\n",
       "5                      Burundi\n",
       "6                     Cameroon\n",
       "7     Central African Republic\n",
       "8                         Chad\n",
       "9                      Comoros\n",
       "10            Congo, Dem. Rep.\n",
       "11                 Congo, Rep.\n",
       "12               Cote d'Ivoire\n",
       "13           Equatorial Guinea\n",
       "14                      Gambia\n",
       "15                      Guinea\n",
       "16               Guinea-Bissau\n",
       "17                       Haiti\n",
       "18                       Kenya\n",
       "19                    Kiribati\n",
       "20                     Lesotho\n",
       "21                     Liberia\n",
       "22                      Malawi\n",
       "23                        Mali\n",
       "24                  Mauritania\n",
       "25       Micronesia, Fed. Sts.\n",
       "26                  Mozambique\n",
       "27                     Namibia\n",
       "28                       Niger\n",
       "29                      Rwanda\n",
       "30                     Senegal\n",
       "31                Sierra Leone\n",
       "32             Solomon Islands\n",
       "33                South Africa\n",
       "34                    Tanzania\n",
       "35                        Togo\n",
       "36                      Uganda\n",
       "37                      Zambia\n",
       "38                     Nigeria\n",
       "39                     Eritrea\n",
       "40                       Gabon\n",
       "41                       Ghana\n",
       "42                        Iraq\n",
       "43                         Lao\n",
       "44                  Madagascar\n",
       "45                    Pakistan\n",
       "46                       Sudan\n",
       "47                 Timor-Leste\n",
       "48                       Yemen\n",
       "Name: country, dtype: object"
      ]
     },
     "execution_count": 312,
     "metadata": {},
     "output_type": "execute_result"
    }
   ],
   "source": [
    "Result_countries1"
   ]
  },
  {
   "cell_type": "code",
   "execution_count": null,
   "metadata": {},
   "outputs": [],
   "source": []
  }
 ],
 "metadata": {
  "kernelspec": {
   "display_name": "Python 3",
   "language": "python",
   "name": "python3"
  },
  "language_info": {
   "codemirror_mode": {
    "name": "ipython",
    "version": 3
   },
   "file_extension": ".py",
   "mimetype": "text/x-python",
   "name": "python",
   "nbconvert_exporter": "python",
   "pygments_lexer": "ipython3",
   "version": "3.6.5"
  }
 },
 "nbformat": 4,
 "nbformat_minor": 2
}
